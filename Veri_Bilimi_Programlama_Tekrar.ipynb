{
  "cells": [
    {
      "cell_type": "markdown",
      "metadata": {
        "id": "oDdRi0A3JsRO"
      },
      "source": [
        "# Python Temelleri - Veri Bilimi İçin Programlama"
      ]
    },
    {
      "cell_type": "markdown",
      "metadata": {
        "id": "PzuMJrMzJsRP"
      },
      "source": [
        "## 1. Ekrana Yazdırma ve Yorum Satırları\n",
        "\n",
        "- **`print()` Fonksiyonu**: Parantez içine verilen değeri (metin, sayı vb.) ekrana basar. Metinler (string'ler) çift tırnak `\"\"` veya tek tırnak `''` içinde yazılır.\n",
        "- **Yorum Satırları (`#`)**: `#` ile başlayan satırlar Python tarafından işlenmez. Kodun okunabilirliğini artırmak veya geçici olarak kod parçalarını devre dışı bırakmak için kullanılır."
      ]
    },
    {
      "cell_type": "code",
      "execution_count": null,
      "metadata": {
        "colab": {
          "base_uri": "https://localhost:8080/"
        },
        "id": "ozX23I1pJsRQ",
        "outputId": "d34ec465-6856-4f24-cc13-f8c855c92bc5"
      },
      "outputs": [
        {
          "output_type": "stream",
          "name": "stdout",
          "text": [
            "Merhaba Dünya\n"
          ]
        }
      ],
      "source": [
        "# Ekrana yazdırma örneği\n",
        "print(\"Merhaba Dünya\")\n",
        "\n",
        "# Bu bir yorum satırıdır, çalıştırılmaz.\n",
        "# print(\"Bu satır çalışmayacak\")"
      ]
    },
    {
      "cell_type": "markdown",
      "metadata": {
        "id": "KyaBQyuKJsRQ"
      },
      "source": [
        "## 2. Değişkenler ve Veri Tipleri\n",
        "\n",
        "- **Değişkenler**: Verileri saklamak için kullanılan isimlendirilmiş alanlardır. Değer atamak için `=` operatörü kullanılır.\n",
        "- **Değişken İsimlendirme Kuralları**:\n",
        "  - Sayı ile başlayamaz.\n",
        "  - Boşluk veya özel karakterler (`@`, `!`, `%` vb.) içeremez (alt çizgi `_` hariç).\n",
        "  - Python anahtar kelimeleri (`if`, `else`, `while`, `for`, `def`, `class` vb.) olamaz.\n",
        "- **Temel Veri Tipleri**:\n",
        "  - `int`: Tam sayılar (örn: `5`, `-10`).\n",
        "  - `float`: Ondalıklı sayılar (örn: `6.2`, `3.14`).\n",
        "  - `str`: Metinler/Karakter dizileri (örn: `\"Yasasin\"`, `'Python'`).\n",
        "  - `list`: Sıralı ve değiştirilebilir eleman koleksiyonu (örn: `[1, 2, 3]`, `['a', 5, 3.1]`)).\n",
        "  - `bool`: Mantıksal değerler (`True` veya `False`).\n",
        "- **`type()` Fonksiyonu**: Bir değişkenin veya değerin veri tipini öğrenmek için kullanılır."
      ]
    },
    {
      "cell_type": "code",
      "execution_count": null,
      "metadata": {
        "colab": {
          "base_uri": "https://localhost:8080/"
        },
        "id": "hP2KuGuGJsRR",
        "outputId": "106ff588-6aaa-4f3d-f200-bcfc6c3bfdd4"
      },
      "outputs": [
        {
          "output_type": "stream",
          "name": "stdout",
          "text": [
            "x değişkeninin değeri: 5\n",
            "y değişkeninin değeri: 6.2\n",
            "z değişkeninin değeri: Yasasin\n",
            "k değişkeninin değeri: [1, 2, 3]\n",
            "m değişkeninin değeri: [[1, 2, 3], [1, 3, 4]]\n",
            "aktif değişkeninin değeri: True\n",
            "x'in tipi: <class 'int'>\n",
            "y'nin tipi: <class 'float'>\n",
            "z'nin tipi: <class 'str'>\n",
            "k'nın tipi: <class 'list'>\n",
            "aktif'in tipi: <class 'bool'>\n"
          ]
        }
      ],
      "source": [
        "# Değişken tanımlama örnekleri\n",
        "x = 5\n",
        "y = 6.2\n",
        "z = \"Yasasin\"\n",
        "k = [1, 2, 3]\n",
        "m = [[1, 2, 3], [1, 3, 4]] # İç içe liste\n",
        "aktif = True\n",
        "\n",
        "print(\"x değişkeninin değeri:\", x)\n",
        "print(\"y değişkeninin değeri:\", y)\n",
        "print(\"z değişkeninin değeri:\", z)\n",
        "print(\"k değişkeninin değeri:\", k)\n",
        "print(\"m değişkeninin değeri:\", m)\n",
        "print(\"aktif değişkeninin değeri:\", aktif)\n",
        "\n",
        "# Hatalı değişken tanımlamaları (yorum içinde bırakıldı)\n",
        "# while = 4 # 'while' anahtar kelime olduğu için hata verir\n",
        "# za@ = 9   # '@' özel karakter içerdiği için hata verir\n",
        "# 2x = 34   # Sayı ile başladığı için hata verir\n",
        "\n",
        "# Değişken tiplerini kontrol etme\n",
        "print(\"x'in tipi:\", type(x))\n",
        "print(\"y'nin tipi:\", type(y))\n",
        "print(\"z'nin tipi:\", type(z))\n",
        "print(\"k'nın tipi:\", type(k))\n",
        "print(\"aktif'in tipi:\", type(aktif))"
      ]
    },
    {
      "cell_type": "markdown",
      "metadata": {
        "id": "GkusLVmAJsRR"
      },
      "source": [
        "## 3. Operatörler\n",
        "\n",
        "### 3.1. Aritmetik Operatörler\n",
        "- `+`: Toplama (sayılar için), Birleştirme (string'ler için).\n",
        "- `-`: Çıkarma.\n",
        "- `*`: Çarpma (sayılar için), Tekrarlama (string'ler için).\n",
        "- `/`: Bölme (sonuç her zaman `float` olur).\n",
        "- `**`: Üs alma.\n",
        "- `%`: Modül alma (bölümden kalan)."
      ]
    },
    {
      "cell_type": "code",
      "execution_count": null,
      "metadata": {
        "colab": {
          "base_uri": "https://localhost:8080/"
        },
        "id": "lkHGhPqwJsRR",
        "outputId": "2d80ee84-fe4f-4421-da18-42c730244071"
      },
      "outputs": [
        {
          "output_type": "stream",
          "name": "stdout",
          "text": [
            "10 + 3 = 13\n",
            "10 - 3 = 7\n",
            "10 * 3 = 30\n",
            "10 / 3 = 3.3333333333333335\n",
            "10 ** 3 = 1000\n",
            "10 % 3 = 1\n",
            "Merhaba Dünya\n",
            "MerhabaMerhabaMerhaba\n"
          ]
        }
      ],
      "source": [
        "# Aritmetik operatör örnekleri\n",
        "sayi1 = 10\n",
        "sayi2 = 3\n",
        "metin1 = \"Merhaba\"\n",
        "metin2 = \" Dünya\"\n",
        "\n",
        "print(f\"{sayi1} + {sayi2} =\", sayi1 + sayi2)\n",
        "print(f\"{sayi1} - {sayi2} =\", sayi1 - sayi2)\n",
        "print(f\"{sayi1} * {sayi2} =\", sayi1 * sayi2)\n",
        "print(f\"{sayi1} / {sayi2} =\", sayi1 / sayi2)\n",
        "print(f\"{sayi1} ** {sayi2} =\", sayi1 ** sayi2)\n",
        "print(f\"{sayi1} % {sayi2} =\", sayi1 % sayi2)\n",
        "\n",
        "print(metin1 + metin2)\n",
        "print(metin1 * 3)"
      ]
    },
    {
      "cell_type": "markdown",
      "metadata": {
        "id": "taz8WTgmJsRR"
      },
      "source": [
        "### 3.2. Tip Dönüşüm Fonksiyonları\n",
        "- `int()`: Başka bir tipi tam sayıya dönüştürür (ondalıklı kısmı atar).\n",
        "- `float()`: Başka bir tipi ondalıklı sayıya dönüştürür.\n",
        "- `str()`: Başka bir tipi metne (string) dönüştürür."
      ]
    },
    {
      "cell_type": "code",
      "execution_count": null,
      "metadata": {
        "colab": {
          "base_uri": "https://localhost:8080/"
        },
        "id": "OOIjF6BwJsRS",
        "outputId": "a29bda62-83a1-4a1d-8dba-abea592d7b65"
      },
      "outputs": [
        {
          "output_type": "stream",
          "name": "stdout",
          "text": [
            "5.8 sayısının int() ile dönüşümü: 5\n",
            "10 sayısının float() ile dönüşümü: 10.0\n",
            "10 sayısının str() ile dönüşümü: 10\n",
            "123 metninin int() ile dönüşümü: 123\n",
            "Yaşım: 30\n"
          ]
        }
      ],
      "source": [
        "# Tip dönüşümü örnekleri\n",
        "ondalikli = 5.8\n",
        "tam_sayi = 10\n",
        "metin_sayi = \"123\"\n",
        "\n",
        "print(f\"{ondalikli} sayısının int() ile dönüşümü:\", int(ondalikli))\n",
        "print(f\"{tam_sayi} sayısının float() ile dönüşümü:\", float(tam_sayi))\n",
        "print(f\"{tam_sayi} sayısının str() ile dönüşümü:\", str(tam_sayi))\n",
        "print(f\"{metin_sayi} metninin int() ile dönüşümü:\", int(metin_sayi))\n",
        "\n",
        "# String ile sayıyı birleştirmek için dönüşüm gerekir\n",
        "print(\"Yaşım: \" + str(30)) # Doğru kullanım\n",
        "# print(\"Yaşım: \" + 30) # Hata verir"
      ]
    },
    {
      "cell_type": "markdown",
      "metadata": {
        "id": "hCFxagyiJsRS"
      },
      "source": [
        "### 3.3. Karşılaştırma Operatörleri\n",
        "- `==`: Eşit mi?\n",
        "- `!=`: Eşit değil mi?\n",
        "- `>`: Büyük mü?\n",
        "- `<`: Küçük mü?\n",
        "- `>=`: Büyük veya eşit mi?\n",
        "- `<=`: Küçük veya eşit mi?\n",
        "Sonuçları `True` veya `False` (boolean) döner."
      ]
    },
    {
      "cell_type": "code",
      "execution_count": null,
      "metadata": {
        "colab": {
          "base_uri": "https://localhost:8080/"
        },
        "id": "akZvA3ulJsRS",
        "outputId": "4ffbf25e-1736-4fbc-dbcf-3454f2112539"
      },
      "outputs": [
        {
          "output_type": "stream",
          "name": "stdout",
          "text": [
            "5 == 10: False\n",
            "5 == 5: True\n",
            "5 != 10: True\n",
            "5 > 10: False\n",
            "5 < 10: True\n",
            "10 >= 5: True\n",
            "5 <= 5: True\n"
          ]
        }
      ],
      "source": [
        "# Karşılaştırma operatörleri örnekleri\n",
        "a = 5\n",
        "b = 10\n",
        "c = 5\n",
        "\n",
        "print(f\"{a} == {b}:\", a == b)\n",
        "print(f\"{a} == {c}:\", a == c)\n",
        "print(f\"{a} != {b}:\", a != b)\n",
        "print(f\"{a} > {b}:\", a > b)\n",
        "print(f\"{a} < {b}:\", a < b)\n",
        "print(f\"{b} >= {c}:\", b >= c)\n",
        "print(f\"{a} <= {c}:\", a <= c)"
      ]
    },
    {
      "cell_type": "markdown",
      "metadata": {
        "id": "sAOpn6NSJsRS"
      },
      "source": [
        "### 3.4. Mantıksal Operatörler\n",
        "- `and` (`&`): Her iki koşul da `True` ise `True` döner.\n",
        "- `or` (`|`): Koşullardan en az biri `True` ise `True` döner.\n",
        "- `not`: Koşulun boolean değerini tersine çevirir (`True` ise `False`, `False` ise `True`)."
      ]
    },
    {
      "cell_type": "code",
      "execution_count": null,
      "metadata": {
        "colab": {
          "base_uri": "https://localhost:8080/"
        },
        "id": "rLOaFK4aJsRS",
        "outputId": "2c3d9390-e29f-4de1-937c-78d29d19987d"
      },
      "outputs": [
        {
          "output_type": "stream",
          "name": "stdout",
          "text": [
            "Yaş 18'den büyük MÜ ve mezun MU? True\n",
            "Yaş 18'den büyük MÜ veya mezun MU? True\n",
            "Mezun DEĞİL mi? False\n"
          ]
        }
      ],
      "source": [
        "# Mantıksal operatör örnekleri\n",
        "yas = 25\n",
        "mezun = True\n",
        "\n",
        "print(\"Yaş 18'den büyük MÜ ve mezun MU?\", (yas > 18) and (mezun == True))\n",
        "print(\"Yaş 18'den büyük MÜ veya mezun MU?\", (yas > 18) or (mezun == False))\n",
        "print(\"Mezun DEĞİL mi?\", not mezun)"
      ]
    },
    {
      "cell_type": "markdown",
      "metadata": {
        "id": "iT-s-uP0JsRS"
      },
      "source": [
        "## 4. Kütüphaneler ve `import`\n",
        "\n",
        "- Python'un temel fonksiyonları dışında daha fazla işlevsellik için kütüphaneler kullanılır.\n",
        "- `import kütüphane_adı`: Kütüphaneyi içe aktarır. Fonksiyonlarına `kütüphane_adı.fonksiyon()` şeklinde erişilir.\n",
        "- `import kütüphane_adı as kısaltma`: Kütüphaneyi bir kısaltma ile içe aktarır. `kısaltma.fonksiyon()` şeklinde kullanılır (Örn: `import math as m`).\n",
        "- `from kütüphane_adı import fonksiyon1, fonksiyon2`: Sadece belirtilen fonksiyonları içe aktarır. Direkt `fonksiyon1()` şeklinde kullanılır.\n",
        "- `from kütüphane_adı import *`: Kütüphanedeki her şeyi içe aktarır (Genellikle önerilmez)."
      ]
    },
    {
      "cell_type": "code",
      "execution_count": null,
      "metadata": {
        "colab": {
          "base_uri": "https://localhost:8080/"
        },
        "id": "NHLK75zlJsRS",
        "outputId": "7ce2d6ff-08b4-40ef-a57a-8913243ffb13"
      },
      "outputs": [
        {
          "output_type": "stream",
          "name": "stdout",
          "text": [
            "Pi sayısı: 3.141592653589793\n",
            "64'ün karekökü: 8.0\n",
            "100'ün 10 tabanında logaritması: 2.0\n",
            "2'nin 5. kuvveti: 32.0\n",
            "4.3'ün yukarı yuvarlanmış hali: 5\n"
          ]
        }
      ],
      "source": [
        "# Matematik kütüphanesini 'm' kısaltmasıyla import etme\n",
        "import math as m\n",
        "\n",
        "print(\"Pi sayısı:\", m.pi)\n",
        "print(\"64'ün karekökü:\", m.sqrt(64))\n",
        "print(\"100'ün 10 tabanında logaritması:\", m.log10(100))\n",
        "\n",
        "# Sadece belirli fonksiyonları import etme\n",
        "from math import pow, ceil\n",
        "\n",
        "print(\"2'nin 5. kuvveti:\", pow(2, 5))\n",
        "print(\"4.3'ün yukarı yuvarlanmış hali:\", ceil(4.3))"
      ]
    },
    {
      "cell_type": "markdown",
      "metadata": {
        "id": "rR5eA66RJsRT"
      },
      "source": [
        "## 5. Fonksiyon Tanımlama (`def`)\n",
        "\n",
        "- Belirli bir işi yapan veya tekrar kullanılacak kod bloklarını tanımlamak için kullanılır.\n",
        "- `def fonksiyon_adı(parametre1, parametre2, ...):` şeklinde başlar.\n",
        "- Fonksiyon içindeki kodlar girintili (indentation) yazılır.\n",
        "- `parametre`'ler fonksiyonun dışarıdan alacağı girdilerdir.\n",
        "- `return deger`: Fonksiyonun çalışması sonucunda bir değer döndürmesini sağlar. `return` yoksa fonksiyon `None` döndürür.\n",
        "- **Lokal Değişkenler**: Fonksiyon içinde tanımlanan değişkenler sadece o fonksiyonun içinde geçerlidir."
      ]
    },
    {
      "cell_type": "code",
      "execution_count": null,
      "metadata": {
        "colab": {
          "base_uri": "https://localhost:8080/"
        },
        "id": "J42ZsxW8JsRT",
        "outputId": "98e7a84e-e338-4d99-fb22-3613e3f48b2c"
      },
      "outputs": [
        {
          "output_type": "stream",
          "name": "stdout",
          "text": [
            "Öğrencinin ortalaması: 82.0\n",
            "Merhaba, Ayşe!\n"
          ]
        }
      ],
      "source": [
        "# Parametre alan ve değer döndüren fonksiyon\n",
        "def ortalamabul(vize, final):\n",
        "    # Fonksiyon içindeki 'ort' değişkeni lokaldir.\n",
        "    ort = (vize * 0.4) + (final * 0.6)\n",
        "    return ort\n",
        "\n",
        "# Parametre alan ama değer döndürmeyen (None döndüren) fonksiyon\n",
        "def selamla(isim):\n",
        "    # Fonksiyon içindeki 'mesaj' değişkeni lokaldir.\n",
        "    mesaj = \"Merhaba, \" + isim + \"!\"\n",
        "    print(mesaj)\n",
        "\n",
        "# Fonksiyonları çağırma\n",
        "ogrenci_ortalamasi = ortalamabul(70, 90)\n",
        "print(\"Öğrencinin ortalaması:\", ogrenci_ortalamasi)\n",
        "\n",
        "selamla(\"Ayşe\")\n",
        "\n",
        "# Lokal değişkene dışarıdan erişmeye çalışmak hata verir\n",
        "# print(ort) # Hata! 'ort' sadece ortalamabul fonksiyonu içinde tanımlı.\n",
        "# print(mesaj) # Hata! 'mesaj' sadece selamla fonksiyonu içinde tanımlı."
      ]
    },
    {
      "cell_type": "markdown",
      "metadata": {
        "id": "-krTm7K-JsRT"
      },
      "source": [
        "## 6. Koşul Yapıları (`if`, `elif`, `else`)\n",
        "\n",
        "- Belirli bir koşulun doğru (`True`) veya yanlış (`False`) olmasına göre farklı kod bloklarının çalıştırılmasını sağlar.\n",
        "- `if kosul:`: Koşul doğruysa bu blok çalışır.\n",
        "- `elif baska_kosul:`: Önceki `if` veya `elif` yanlışsa ve `baska_kosul` doğruysa bu blok çalışır. Birden fazla `elif` olabilir.\n",
        "- `else:`: Yukarıdaki koşulların hiçbiri doğru değilse bu blok çalışır."
      ]
    },
    {
      "cell_type": "code",
      "execution_count": null,
      "metadata": {
        "colab": {
          "base_uri": "https://localhost:8080/"
        },
        "id": "96S31OOwJsRT",
        "outputId": "d6527a10-7d0b-4341-a99c-e117335e7025"
      },
      "outputs": [
        {
          "output_type": "stream",
          "name": "stdout",
          "text": [
            "Ortalama 82.0 için harf notu: BA\n",
            "Ortalama 43.0 için harf notu: FF (Kaldı)\n"
          ]
        }
      ],
      "source": [
        "def harf_notu_bul(ortalama):\n",
        "    if ortalama >= 90:\n",
        "        return \"AA\"\n",
        "    elif ortalama >= 80:\n",
        "        return \"BA\"\n",
        "    elif ortalama >= 70:\n",
        "        return \"BB\"\n",
        "    elif ortalama >= 60:\n",
        "        return \"CB\"\n",
        "    elif ortalama >= 50:\n",
        "        return \"CC\"\n",
        "    else:\n",
        "        return \"FF (Kaldı)\"\n",
        "\n",
        "ort1 = ortalamabul(70, 90) # Önceki fonksiyondan 82.0 gelecek\n",
        "ort2 = ortalamabul(40, 45) # Önceki fonksiyondan 43.0 gelecek\n",
        "\n",
        "print(f\"Ortalama {ort1} için harf notu: {harf_notu_bul(ort1)}\")\n",
        "print(f\"Ortalama {ort2} için harf notu: {harf_notu_bul(ort2)}\")"
      ]
    },
    {
      "cell_type": "markdown",
      "metadata": {
        "id": "5DkRHmK5JsRT"
      },
      "source": [
        "## 7. Döngüler (`while`, `for`)\n",
        "\n",
        "### 7.1. `while` Döngüsü\n",
        "- Belirtilen koşul `True` olduğu sürece içindeki kod bloğunu tekrar tekrar çalıştırır.\n",
        "- Koşulun döngü içinde değişerek bir noktada `False` olması gerekir, yoksa sonsuz döngü oluşur.\n",
        "- `break`: Döngüyü anında sonlandırır.\n",
        "- `continue`: Döngünün o anki adımını atlayıp bir sonraki adıma geçer."
      ]
    },
    {
      "cell_type": "code",
      "execution_count": null,
      "metadata": {
        "colab": {
          "base_uri": "https://localhost:8080/"
        },
        "id": "TPPpZZOLJsRT",
        "outputId": "8f82e1fa-648c-4750-e6cf-33e74ea30c18"
      },
      "outputs": [
        {
          "output_type": "stream",
          "name": "stdout",
          "text": [
            "While döngüsü başlangıcı:\n",
            "0\n",
            "1\n",
            "2\n",
            "3\n",
            "4\n",
            "5\n",
            "While döngüsü bitti.\n",
            "\n",
            "Break'li while döngüsü başlangıcı:\n",
            "15\n",
            "14\n",
            "13\n",
            "12\n",
            "11\n",
            "10\n",
            "y=9 oldu, break ile çıkılıyor.\n",
            "Break'li while döngüsü bitti.\n"
          ]
        }
      ],
      "source": [
        "# 0'dan 5'e kadar (5 dahil) sayıları yazdıran while döngüsü\n",
        "x = 0\n",
        "print(\"While döngüsü başlangıcı:\")\n",
        "while x <= 5:\n",
        "    print(x)\n",
        "    x = x + 1 # Koşulu değiştiren güncelleme\n",
        "print(\"While döngüsü bitti.\")\n",
        "\n",
        "# break kullanımı örneği\n",
        "y = 15\n",
        "print(\"\\nBreak'li while döngüsü başlangıcı:\")\n",
        "while y > 5:\n",
        "    print(y)\n",
        "    y = y - 1\n",
        "    if y == 9:\n",
        "        print(\"y=9 oldu, break ile çıkılıyor.\")\n",
        "        break\n",
        "print(\"Break'li while döngüsü bitti.\")"
      ]
    },
    {
      "cell_type": "markdown",
      "metadata": {
        "id": "h7H4tlAyJsRT"
      },
      "source": [
        "### 7.2. `for` Döngüsü\n",
        "- Bir dizi (string, liste, tuple vb.) veya yinelenebilir (iterable) bir nesnenin elemanları üzerinde gezinmek için kullanılır.\n",
        "- `range(stop)`: 0'dan `stop-1`'e kadar sayılar üretir.\n",
        "- `range(start, stop)`: `start`'tan `stop-1`'e kadar sayılar üretir.\n",
        "- `range(start, stop, step)`: `start`'tan `stop-1`'e kadar `step` adım aralıklarla sayılar üretir."
      ]
    },
    {
      "cell_type": "code",
      "execution_count": null,
      "metadata": {
        "colab": {
          "base_uri": "https://localhost:8080/"
        },
        "id": "af5TNSNAJsRU",
        "outputId": "1dae82c9-6d89-406d-f5a3-21cff1282ed5"
      },
      "outputs": [
        {
          "output_type": "stream",
          "name": "stdout",
          "text": [
            "\n",
            "String üzerinde for döngüsü:\n",
            "e\n",
            "l\n",
            "m\n",
            "a\n",
            "\n",
            "range(5) ile for döngüsü:\n",
            "0\n",
            "1\n",
            "2\n",
            "3\n",
            "4\n",
            "\n",
            "range(2, 6) ile for döngüsü:\n",
            "2\n",
            "3\n",
            "4\n",
            "5\n",
            "\n",
            "range(1, 10, 2) ile for döngüsü:\n",
            "1\n",
            "3\n",
            "5\n",
            "7\n",
            "9\n",
            "\n",
            "Liste üzerinde for döngüsü:\n",
            "20\n",
            "40\n",
            "60\n"
          ]
        }
      ],
      "source": [
        "# String üzerinde for döngüsü\n",
        "meyve = \"elma\"\n",
        "print(\"\\nString üzerinde for döngüsü:\")\n",
        "for harf in meyve:\n",
        "    print(harf)\n",
        "\n",
        "# range() ile for döngüsü\n",
        "print(\"\\nrange(5) ile for döngüsü:\")\n",
        "for i in range(5):\n",
        "    print(i)\n",
        "\n",
        "print(\"\\nrange(2, 6) ile for döngüsü:\")\n",
        "for i in range(2, 6):\n",
        "    print(i)\n",
        "\n",
        "print(\"\\nrange(1, 10, 2) ile for döngüsü:\")\n",
        "for i in range(1, 10, 2):\n",
        "    print(i)\n",
        "\n",
        "# Liste üzerinde for döngüsü\n",
        "sayilar = [10, 20, 30]\n",
        "print(\"\\nListe üzerinde for döngüsü:\")\n",
        "for sayi in sayilar:\n",
        "    print(sayi * 2)"
      ]
    },
    {
      "cell_type": "markdown",
      "metadata": {
        "id": "QMvS9NbAJsRU"
      },
      "source": [
        "## 8. String (Metin) İşlemleri\n",
        "\n",
        "- **İndeksleme**: `metin[index]`. İlk eleman `0`, son eleman `-1`.\n",
        "- **Dilimleme (Slicing)**: `metin[start:stop:step]`. `start` dahil, `stop` hariç.\n",
        "- **Uzunluk (`len`)**: `len(metin)` karakter sayısını verir.\n",
        "- **Değiştirilemezlik (Immutability)**: String'in tek bir karakteri doğrudan değiştirilemez.\n",
        "- **Metotlar**:"
      ]
    },
    {
      "cell_type": "code",
      "execution_count": null,
      "metadata": {
        "colab": {
          "base_uri": "https://localhost:8080/"
        },
        "id": "ryeRcYFfJsRU",
        "outputId": "e55abe21-7e6e-4d22-916e-d769b143caa6"
      },
      "outputs": [
        {
          "output_type": "stream",
          "name": "stdout",
          "text": [
            "İlk karakter: P\n",
            "Son karakter: m\n",
            "1'den 12'ye (hariç) kadar: ython ile k\n",
            "13'ten sona kadar: dlamayı çok seviyorum\n",
            "Baştan 6'ya (hariç) kadar: Python\n",
            "Metin uzunluğu: 34\n",
            "PYTHON.lower() -> python\n",
            "Python ile kodlamayı çok seviyorum.upper() -> PYTHON ILE KODLAMAYI ÇOK SEVIYORUM\n",
            "z içinde 'o' harfi sayısı: 4\n",
            "z.split() -> ['Python', 'ile', 'kodlamayı', 'çok', 'seviyorum']\n",
            "'-'.join(['çok', 'yorulduk', 'bitirelim']) -> çok-yorulduk-bitirelim\n"
          ]
        }
      ],
      "source": [
        "z = \"Python ile kodlamayı çok seviyorum\"\n",
        "\n",
        "# İndeksleme\n",
        "print(\"İlk karakter:\", z[0])\n",
        "print(\"Son karakter:\", z[-1])\n",
        "\n",
        "# Dilimleme\n",
        "print(\"1'den 12'ye (hariç) kadar:\", z[1:12])\n",
        "print(\"13'ten sona kadar:\", z[13:])\n",
        "print(\"Baştan 6'ya (hariç) kadar:\", z[:6])\n",
        "\n",
        "# Uzunluk\n",
        "print(\"Metin uzunluğu:\", len(z))\n",
        "\n",
        "# Değiştirilemezlik (Hata verir - yorumda bırakıldı)\n",
        "# z[0] = 'J' # TypeError: 'str' object does not support item assignment\n",
        "\n",
        "# String Metotları\n",
        "kucuk_z = \"PYTHON\"\n",
        "print(f\"{kucuk_z}.lower() ->\", kucuk_z.lower())\n",
        "print(f\"{z}.upper() ->\", z.upper())\n",
        "print(f\"z içinde 'o' harfi sayısı: {z.count('o')}\")\n",
        "\n",
        "# split: Metni boşluklara göre ayırır ve liste döndürür\n",
        "kelimeler = z.split()\n",
        "print(f\"z.split() -> {kelimeler}\")\n",
        "\n",
        "# join: Liste elemanlarını araya belirtilen karakteri koyarak birleştirir\n",
        "liste = ['çok', 'yorulduk', 'bitirelim']\n",
        "birlesik = \"-\".join(liste)\n",
        "print(f\"'-'.join({liste}) -> {birlesik}\")"
      ]
    },
    {
      "cell_type": "markdown",
      "metadata": {
        "id": "186NCaT9JsRU"
      },
      "source": [
        "## 9. Listeler (Lists)\n",
        "\n",
        "- Sıralı ve **değiştirilebilir** (mutable) eleman koleksiyonlarıdır.\n",
        "- Köşeli parantez `[]` ile tanımlanır.\n",
        "- Farklı veri tiplerini bir arada tutabilir.\n",
        "- **İndeksleme ve Dilimleme**: String'ler gibidir.\n",
        "- **Operatörler**: `+` (birleştirme), `*` (tekrarlama), `in` (eleman kontrolü).\n",
        "- **Metotlar**:"
      ]
    },
    {
      "cell_type": "code",
      "execution_count": null,
      "metadata": {
        "colab": {
          "base_uri": "https://localhost:8080/"
        },
        "id": "fPEO46lGJsRU",
        "outputId": "2a295a2e-7379-45b7-ac06-f4c943a4db49"
      },
      "outputs": [
        {
          "output_type": "stream",
          "name": "stdout",
          "text": [
            "İlk liste a: [1, 2, 3]\n",
            "a[1]=5 sonrası a: [1, 5, 3]\n",
            "b'nin ilk elemanı: Bahar\n",
            "b'nin içindeki listenin ikinci elemanı: 5\n",
            "b'nin 1 ve 2. indeksleri: [2, 3]\n",
            "b + c: ['Bahar', 2, 3, [4, 5], 6, 7, 8]\n",
            "[10] * 5: [10, 10, 10, 10, 10]\n",
            "3, b listesinde var mı? True\n",
            "10, b listesinde var mı? False\n",
            "\n",
            "Liste Metotları:\n",
            "Başlangıç zz: ['a', 'b', 'c']\n",
            "zz.append('d') sonrası: ['a', 'b', 'c', 'd']\n",
            "zz.extend(['e', 'f']) sonrası: ['a', 'b', 'c', 'd', 'e', 'f']\n",
            "zz.insert(1, 'YENI') sonrası: ['a', 'YENI', 'b', 'c', 'd', 'e', 'f']\n",
            "zz.pop(2) -> 'b', sonrası zz: ['a', 'YENI', 'c', 'd', 'e', 'f']\n",
            "zz.remove('YENI') sonrası: ['a', 'c', 'd', 'e', 'f']\n",
            "Sıralanmamış rakamlar: [5, 1, 9, 3]\n",
            "rakamlar.sort() sonrası: [1, 3, 5, 9]\n",
            "rakamlar.sort(reverse=True) sonrası: [9, 5, 3, 1]\n",
            "Toplamları (sum(rakamlar)): 18\n"
          ]
        }
      ],
      "source": [
        "# Liste oluşturma\n",
        "a = [1, 2, 3]\n",
        "b = [\"Bahar\", 2, 3, [4, 5]]\n",
        "bos_liste = []\n",
        "bos_liste2 = list()\n",
        "\n",
        "# Eleman değiştirme (mutable)\n",
        "print(\"İlk liste a:\", a)\n",
        "a[1] = 5\n",
        "print(\"a[1]=5 sonrası a:\", a)\n",
        "\n",
        "# İndeksleme ve Dilimleme\n",
        "print(\"b'nin ilk elemanı:\", b[0])\n",
        "print(\"b'nin içindeki listenin ikinci elemanı:\", b[3][1])\n",
        "print(\"b'nin 1 ve 2. indeksleri:\", b[1:3])\n",
        "\n",
        "# Operatörler\n",
        "c = [6, 7, 8]\n",
        "d = b + c\n",
        "print(\"b + c:\", d)\n",
        "print(\"[10] * 5:\", [10] * 5)\n",
        "print(\"3, b listesinde var mı?\", 3 in b)\n",
        "print(\"10, b listesinde var mı?\", 10 in b)\n",
        "\n",
        "# Liste Metotları\n",
        "zz = ['a', 'b', 'c']\n",
        "print(\"\\nListe Metotları:\")\n",
        "print(\"Başlangıç zz:\", zz)\n",
        "zz.append('d') # Sona ekleme\n",
        "print(\"zz.append('d') sonrası:\", zz)\n",
        "zz.extend(['e', 'f']) # Başka liste elemanlarını sona ekleme\n",
        "print(\"zz.extend(['e', 'f']) sonrası:\", zz)\n",
        "zz.insert(1, 'YENI') # 1. indekse ekleme\n",
        "print(\"zz.insert(1, 'YENI') sonrası:\", zz)\n",
        "cikan_eleman = zz.pop(2) # 2. indeksteki elemanı çıkar ve döndür ('b')\n",
        "print(f\"zz.pop(2) -> '{cikan_eleman}', sonrası zz: {zz}\")\n",
        "zz.remove('YENI') # 'YENI' değerini listeden çıkar\n",
        "print(\"zz.remove('YENI') sonrası:\", zz)\n",
        "rakamlar = [5, 1, 9, 3]\n",
        "print(\"Sıralanmamış rakamlar:\", rakamlar)\n",
        "rakamlar.sort() # Yerinde sıralama\n",
        "print(\"rakamlar.sort() sonrası:\", rakamlar)\n",
        "rakamlar.sort(reverse=True) # Yerinde tersten sıralama\n",
        "print(\"rakamlar.sort(reverse=True) sonrası:\", rakamlar)\n",
        "print(\"Toplamları (sum(rakamlar)):\", sum(rakamlar))"
      ]
    },
    {
      "cell_type": "markdown",
      "metadata": {
        "id": "9q9Bg4sTJsRU"
      },
      "source": [
        "### Listelerde Atama ve Kopyalama Dikkat!\n",
        "- `liste2 = liste1`: İki değişken aynı listeyi işaret eder. Birindeki değişiklik diğerini etkiler (aliasing).\n",
        "- `liste2 = liste1[:]` veya `liste2 = liste1.copy()` veya `import copy; liste2 = copy.deepcopy(liste1)`: Listenin bir kopyasını oluşturur. Değişiklikler birbirini etkilemez."
      ]
    },
    {
      "cell_type": "code",
      "execution_count": null,
      "metadata": {
        "colab": {
          "base_uri": "https://localhost:8080/"
        },
        "id": "ah2imT2LJsRU",
        "outputId": "c835bf77-1ab0-4b4c-8c87-4bba11468328"
      },
      "outputs": [
        {
          "output_type": "stream",
          "name": "stdout",
          "text": [
            "Aliasing Sonrası:\n",
            "list1: [99, 2, 3]\n",
            "list2: [99, 2, 3]\n",
            "\n",
            "Kopyalama Sonrası:\n",
            "list3: [10, 20, 30]\n",
            "list4: [88, 20, 30]\n"
          ]
        }
      ],
      "source": [
        "# Aliasing (Takma Ad Kullanımı)\n",
        "list1 = [1, 2, 3]\n",
        "list2 = list1\n",
        "list2[0] = 99\n",
        "print(\"Aliasing Sonrası:\")\n",
        "print(\"list1:\", list1) # list1 de değişti!\n",
        "print(\"list2:\", list2)\n",
        "\n",
        "# Kopyalama (Slicing ile - shallow copy)\n",
        "list3 = [10, 20, 30]\n",
        "list4 = list3[:]\n",
        "list4[0] = 88\n",
        "print(\"\\nKopyalama Sonrası:\")\n",
        "print(\"list3:\", list3) # list3 değişmedi\n",
        "print(\"list4:\", list4)"
      ]
    },
    {
      "cell_type": "markdown",
      "metadata": {
        "id": "bpobSCXGJsRU"
      },
      "source": [
        "## 10. Sözlükler (Dictionaries)\n",
        "\n",
        "- Anahtar-Değer (key-value) çiftlerinden oluşan, sırasız (Python 3.7+ itibarıyla sıralı) ve **değiştirilebilir** (mutable) koleksiyonlardır.\n",
        "- Süslü parantez `{}` ile tanımlanır: `{'anahtar1': deger1, 'anahtar2': deger2}`.\n",
        "- Anahtarlar (keys) benzersiz ve değiştirilemez (immutable - string, sayı, tuple) olmalıdır.\n",
        "- Değerlere (values) anahtarları ile erişilir.\n",
        "- **Metotlar**:"
      ]
    },
    {
      "cell_type": "code",
      "execution_count": null,
      "metadata": {
        "colab": {
          "base_uri": "https://localhost:8080/"
        },
        "id": "CcXik67WJsRU",
        "outputId": "72afb01d-3b18-4edd-967b-d0eeb450d35e"
      },
      "outputs": [
        {
          "output_type": "stream",
          "name": "stdout",
          "text": [
            "z['iki']: ikinci\n",
            "z.get('uc'): ucuncu\n",
            "z.get('dört'): None\n",
            "z.get('dört', 'Bulunamadı'): Bulunamadı\n",
            "\n",
            "Güncellenmiş Sözlük z: {'bir': '1.', 'iki': 'ikinci', 'uc': 'ucuncu', 'ders': 'web', 'ad': 'mehmet'}\n",
            "Sözlüğün uzunluğu (len(z)): 5\n",
            "'ders' anahtarı z'de var mı? True\n",
            "'bes' anahtarı z'de var mı? False\n",
            "\n",
            "Sözlük Metotları:\n",
            "z.keys(): dict_keys(['bir', 'iki', 'uc', 'ders', 'ad'])\n",
            "z.values(): dict_values(['1.', 'ikinci', 'ucuncu', 'web', 'mehmet'])\n",
            "z.items(): dict_items([('bir', '1.'), ('iki', 'ikinci'), ('uc', 'ucuncu'), ('ders', 'web'), ('ad', 'mehmet')])\n",
            "'web' değeri z'de var mı? True\n",
            "\n",
            "Sözlük üzerinde for döngüsü (items ile):\n",
            "Anahtar: bir, Değer: 1.\n",
            "Anahtar: iki, Değer: ikinci\n",
            "Anahtar: uc, Değer: ucuncu\n",
            "Anahtar: ders, Değer: web\n",
            "Anahtar: ad, Değer: mehmet\n",
            "\n",
            "Sözlük üzerinde for döngüsü (sadece anahtarlar):\n",
            "Anahtar: bir, Değer: 1.\n",
            "Anahtar: iki, Değer: ikinci\n",
            "Anahtar: uc, Değer: ucuncu\n",
            "Anahtar: ders, Değer: web\n",
            "Anahtar: ad, Değer: mehmet\n"
          ]
        }
      ],
      "source": [
        "# Sözlük oluşturma\n",
        "z = {'bir':'birinci', 'iki': 'ikinci', 'uc':'ucuncu'}\n",
        "bos_sozluk = {}\n",
        "bos_sozluk2 = dict()\n",
        "\n",
        "# Değere erişim\n",
        "print(\"z['iki']:\", z['iki'])\n",
        "# print(z['dört']) # Hata verir (KeyError)\n",
        "print(\"z.get('uc'):\", z.get('uc'))\n",
        "print(\"z.get('dört'):\", z.get('dört')) # Hata vermez, None döndürür\n",
        "print(\"z.get('dört', 'Bulunamadı'):\", z.get('dört', 'Bulunamadı')) # Varsayılan değer\n",
        "\n",
        "# Eleman ekleme / güncelleme\n",
        "z['ders'] = \"web\"\n",
        "z['ad'] = \"mehmet\"\n",
        "z['bir'] = \"1.\"\n",
        "print(\"\\nGüncellenmiş Sözlük z:\", z)\n",
        "\n",
        "# Uzunluk\n",
        "print(\"Sözlüğün uzunluğu (len(z)):\", len(z))\n",
        "\n",
        "# Anahtar kontrolü\n",
        "print(\"'ders' anahtarı z'de var mı?\", 'ders' in z)\n",
        "print(\"'bes' anahtarı z'de var mı?\", 'bes' in z)\n",
        "\n",
        "# Metotlar\n",
        "print(\"\\nSözlük Metotları:\")\n",
        "print(\"z.keys():\", z.keys()) # Anahtarlar\n",
        "print(\"z.values():\", z.values()) # Değerler\n",
        "print(\"z.items():\", z.items()) # (Anahtar, Değer) çiftleri\n",
        "\n",
        "# Değer kontrolü\n",
        "degerler = z.values()\n",
        "print(\"'web' değeri z'de var mı?\", 'web' in degerler)\n",
        "\n",
        "# Sözlük üzerinde döngü\n",
        "print(\"\\nSözlük üzerinde for döngüsü (items ile):\")\n",
        "for anahtar, deger in z.items():\n",
        "    print(f\"Anahtar: {anahtar}, Değer: {deger}\")\n",
        "\n",
        "print(\"\\nSözlük üzerinde for döngüsü (sadece anahtarlar):\")\n",
        "for k in z: # Varsayılan olarak anahtarlar üzerinde gezer\n",
        "    print(f\"Anahtar: {k}, Değer: {z[k]}\")"
      ]
    },
    {
      "cell_type": "markdown",
      "metadata": {
        "id": "Sd1BDot3JsRU"
      },
      "source": [
        "## 11. Tuple'lar (Demetler)\n",
        "\n",
        "- Sıralı ve **değiştirilemez** (immutable) eleman koleksiyonlarıdır.\n",
        "- Normal parantez `()` ile veya sadece virgülle ayrılarak tanımlanır.\n",
        "- Tek elemanlı tuple için sona virgül konur: `(eleman,)` veya `eleman,`.\n",
        "- **İndeksleme ve Dilimleme**: Listeler ve string'ler gibidir.\n",
        "- Değişmezlikleri nedeniyle sözlük anahtarı olarak kullanılabilirler."
      ]
    },
    {
      "cell_type": "code",
      "execution_count": null,
      "metadata": {
        "colab": {
          "base_uri": "https://localhost:8080/"
        },
        "id": "zSoKWRtuJsRU",
        "outputId": "c92ce98f-c942-4713-9643-c69e31e038c2"
      },
      "outputs": [
        {
          "output_type": "stream",
          "name": "stdout",
          "text": [
            "t1: ('a', 'b', 'c', 'd', 'e')\n",
            "t2: ('a', 'b', 'c')\n",
            "t3: ('a',)\n",
            "t4: ('B', 'a', 'h', 'a', 'r')\n",
            "t4 tipi: <class 'tuple'>\n",
            "t4[0]: B\n",
            "t4[1:3]: ('a', 'h')\n",
            "Yeni tuple: ('x', 'B', 'a', 'h', 'a', 'r')\n",
            "\n",
            "Takas öncesi: x=5, y=10\n",
            "Takas sonrası: x=10, y=5\n",
            "İsim: baharcelik, Domain: duzce.edu.tr\n",
            "17/5 -> Bölüm: 3, Kalan: 2\n"
          ]
        }
      ],
      "source": [
        "# Tuple oluşturma\n",
        "t1 = ('a', 'b', 'c', 'd', 'e')\n",
        "t2 = 'a', 'b', 'c'\n",
        "t3 = ('a',) # Tek elemanlı tuple\n",
        "t4 = tuple('Bahar') # String'den tuple oluşturma\n",
        "\n",
        "print(\"t1:\", t1)\n",
        "print(\"t2:\", t2)\n",
        "print(\"t3:\", t3)\n",
        "print(\"t4:\", t4)\n",
        "print(\"t4 tipi:\", type(t4))\n",
        "\n",
        "# İndeksleme ve Dilimleme\n",
        "print(\"t4[0]:\", t4[0])\n",
        "print(\"t4[1:3]:\", t4[1:3])\n",
        "\n",
        "# Değiştirilemezlik (Hata verir - yorumda bırakıldı)\n",
        "# t4[0] = 'C' # TypeError: 'tuple' object does not support item assignment\n",
        "\n",
        "# Tuple birleştirme (yeni tuple oluşturur)\n",
        "yeni_t = ('x',) + t4\n",
        "print(\"Yeni tuple:\", yeni_t)\n",
        "\n",
        "# Tuple Packing ve Unpacking\n",
        "x = 5\n",
        "y = 10\n",
        "print(f\"\\nTakas öncesi: x={x}, y={y}\")\n",
        "x, y = y, x # Tuple unpacking ile takas\n",
        "print(f\"Takas sonrası: x={x}, y={y}\")\n",
        "\n",
        "mail = 'baharcelik@duzce.edu.tr'\n",
        "isim, domain = mail.split('@') # split list döndürür, unpacking ile atanır\n",
        "print(f\"İsim: {isim}, Domain: {domain}\")\n",
        "\n",
        "# Fonksiyonun birden fazla değer döndürmesi (tuple olarak)\n",
        "bolum, kalan = divmod(17, 5)\n",
        "print(f\"17/5 -> Bölüm: {bolum}, Kalan: {kalan}\")"
      ]
    },
    {
      "cell_type": "markdown",
      "metadata": {
        "id": "0PKMNkcPJsRV"
      },
      "source": [
        "## 12. Global ve Lokal Değişkenler\n",
        "\n",
        "- **Lokal Değişken**: Bir fonksiyon içinde tanımlanan ve sadece o fonksiyon içinde erişilebilen değişkendir.\n",
        "- **Global Değişken**: Fonksiyonların dışında tanımlanan ve programın her yerinden (fonksiyon içleri dahil) erişilebilen değişkendir.\n",
        "- Fonksiyon içinde global bir değişkene sadece okunarak erişilebilir.\n",
        "- Fonksiyon içinde global bir değişkenin **değeri değiştirilmek** isteniyorsa, fonksiyon içinde `global degisken_adi` ifadesi kullanılmalıdır.\n",
        "- **Önemli Not**: Listeler ve sözlükler gibi değiştirilebilir (mutable) nesnelerin *içeriği*, `global` anahtar kelimesi kullanılmadan da fonksiyon içinde değiştirilebilir. Ancak listeyi veya sözlüğü tamamen başka bir listeyle/sözlükle değiştirmek (yeniden atamak) için `global` gerekir."
      ]
    },
    {
      "cell_type": "code",
      "execution_count": null,
      "metadata": {
        "colab": {
          "base_uri": "https://localhost:8080/"
        },
        "id": "OZpVhXMfJsRV",
        "outputId": "27453bf7-6dc5-4d85-a887-b13cc8a8a772"
      },
      "outputs": [
        {
          "output_type": "stream",
          "name": "stdout",
          "text": [
            "Başlangıç (sayac): 0\n",
            "Fonksiyon içi (lokal_sayac): 1\n",
            "artir_ve_goster sonrası (sayac): 0\n",
            "Fonksiyon içi (gercekten_artir - global sayac): 1\n",
            "gercekten_artir sonrası (sayac): 1\n",
            "\n",
            "Başlangıç (liste_global): [10, 20, 30]\n",
            "Fonksiyon içi (liste_global): [99, 20, 30]\n",
            "listeyi_degistir sonrası (liste_global): [99, 20, 30]\n"
          ]
        }
      ],
      "source": [
        "sayac = 0 # Global değişken\n",
        "liste_global = [10, 20, 30] # Global liste\n",
        "\n",
        "def artir_ve_goster():\n",
        "    # sayac += 1 # Hata verir! Global değişkeni doğrudan değiştiremez.\n",
        "    lokal_sayac = sayac + 1 # Okuyabilir, yeni lokal değişkene atayabilir.\n",
        "    print(\"Fonksiyon içi (lokal_sayac):\", lokal_sayac)\n",
        "\n",
        "def gercekten_artir():\n",
        "    global sayac # Global değişkeni değiştireceğimizi belirtiyoruz.\n",
        "    sayac += 1\n",
        "    print(\"Fonksiyon içi (gercekten_artir - global sayac):\", sayac)\n",
        "\n",
        "def listeyi_degistir():\n",
        "    # global liste_global # Gerekli değil, listenin içeriğini değiştiriyoruz.\n",
        "    liste_global[0] = 99 # Listenin içeriği değişir.\n",
        "    # liste_global = [1, 2] # Eğer böyle yeniden atama yapsaydık 'global' gerekirdi.\n",
        "    print(\"Fonksiyon içi (liste_global):\", liste_global)\n",
        "\n",
        "print(\"Başlangıç (sayac):\", sayac)\n",
        "artir_ve_goster()\n",
        "print(\"artir_ve_goster sonrası (sayac):\", sayac) # Değişmedi\n",
        "gercekten_artir()\n",
        "print(\"gercekten_artir sonrası (sayac):\", sayac) # Değişti\n",
        "\n",
        "print(\"\\nBaşlangıç (liste_global):\", liste_global)\n",
        "listeyi_degistir()\n",
        "print(\"listeyi_degistir sonrası (liste_global):\", liste_global) # Değişti"
      ]
    },
    {
      "cell_type": "markdown",
      "metadata": {
        "id": "bd4LoH7fJsRV"
      },
      "source": [
        "## 13. `zip` ve `enumerate`\n",
        "\n",
        "- **`zip(*iterables)`**: Birden fazla listeyi, tuple'ı vb. alır ve karşılıklı elemanlarından oluşan tuple'lar üreten bir *iterator* döndürür. En kısa olan iterable'ın uzunluğu kadar ilerler.\n",
        "- **`enumerate(iterable, start=0)`**: Bir iterable alır ve `(index, eleman)` şeklinde tuple'lar üreten bir *iterator* döndürür."
      ]
    },
    {
      "cell_type": "code",
      "execution_count": null,
      "metadata": {
        "colab": {
          "base_uri": "https://localhost:8080/"
        },
        "id": "iai5m01SJsRV",
        "outputId": "f0b17a23-069a-4d5c-f616-ef7fc9b5f868"
      },
      "outputs": [
        {
          "output_type": "stream",
          "name": "stdout",
          "text": [
            "zip kullanarak listeleri birleştirme:\n",
            "İsim: Ali, Yaş: 30, Meslek: Mühendis\n",
            "İsim: Veli, Yaş: 25, Meslek: Öğretmen\n",
            "İsim: Ayşe, Yaş: 28, Meslek: Doktor\n",
            "\n",
            "enumerate kullanarak indekslerle gezinme:\n",
            "0. index: Ali\n",
            "1. index: Veli\n",
            "2. index: Ayşe\n",
            "\n",
            "enumerate(..., start=1) ile:\n",
            "1. meslek: Mühendis\n",
            "2. meslek: Öğretmen\n",
            "3. meslek: Doktor\n"
          ]
        }
      ],
      "source": [
        "# zip örneği\n",
        "isimler = ['Ali', 'Veli', 'Ayşe']\n",
        "yaslar = [30, 25, 28]\n",
        "meslekler = ['Mühendis', 'Öğretmen', 'Doktor']\n",
        "\n",
        "print(\"zip kullanarak listeleri birleştirme:\")\n",
        "for isim, yas, meslek in zip(isimler, yaslar, meslekler):\n",
        "    print(f\"İsim: {isim}, Yaş: {yas}, Meslek: {meslek}\")\n",
        "\n",
        "# enumerate örneği\n",
        "print(\"\\nenumerate kullanarak indekslerle gezinme:\")\n",
        "for index, isim in enumerate(isimler):\n",
        "    print(f\"{index}. index: {isim}\")\n",
        "\n",
        "# enumerate ile başlangıç indeksi belirtme\n",
        "print(\"\\nenumerate(..., start=1) ile:\")\n",
        "for i, meslek in enumerate(meslekler, start=1):\n",
        "    print(f\"{i}. meslek: {meslek}\")"
      ]
    },
    {
      "cell_type": "markdown",
      "metadata": {
        "id": "cOfyIf3XJsRV"
      },
      "source": [
        "## 14. Dosya İşlemleri\n",
        "\n",
        "- **Dosya Açma (`open`)**: `dosya_nesnesi = open('dosya_adi.txt', 'mod')`\n",
        "  - **Modlar**:\n",
        "    - `'r'`: Okuma (varsayılan). Dosya yoksa hata verir.\n",
        "    - `'w'`: Yazma. Dosya varsa içeriğini siler, yoksa oluşturur.\n",
        "    - `'a'`: Ekleme (append). Dosya varsa sonuna ekler, yoksa oluşturur.\n",
        "    - `'r+'`: Okuma ve yazma.\n",
        "    - `'b'`: İkili (binary) mod (örn: resim dosyaları için).\n",
        "- **Dosyaya Yazma (`write`)**: `dosya_nesnesi.write(metin)`\n",
        "  - Yazılacak verinin string olması gerekir. `str()` ile dönüşüm yapılabilir.\n",
        "  - Yeni satır için `\\n` karakteri kullanılır.\n",
        "- **Dosyayı Kapatma (`close`)**: `dosya_nesnesi.close()`. Kaynakları serbest bırakmak ve verinin dosyaya yazıldığından emin olmak için önemlidir.\n",
        "- **`with open(...) as ...:`**: Dosyayı otomatik kapatan, daha güvenli bir yöntemdir."
      ]
    },
    {
      "cell_type": "code",
      "execution_count": null,
      "metadata": {
        "colab": {
          "base_uri": "https://localhost:8080/"
        },
        "id": "k_rGlwGjJsRV",
        "outputId": "5596e7a9-b10d-490a-e18f-99904268bc4b"
      },
      "outputs": [
        {
          "output_type": "stream",
          "name": "stdout",
          "text": [
            "'yazmalik_dosya.txt' dosyası yazıldı.\n",
            "'yazmalik_dosya.txt' dosyasına ekleme yapıldı.\n",
            "\n",
            "Dosya İçeriği Okunuyor:\n",
            "> Bu ilk satır.\n",
            "> Bu da ikinci satır.\n",
            "> Sayı: 52\n",
            "> 3 aydır çalışıyorum, sınavdan 82.5 aldım.\n",
            "> Ahmet, 75.5 puan aldı.\n",
            "> Bu satır sona eklendi.\n",
            "> Bu da eklendi.\n"
          ]
        }
      ],
      "source": [
        "# Dosyaya yazma ('w' modu - eski içerik silinir)\n",
        "try:\n",
        "    # Google Colab'da dosya yolu direkt isimle verilebilir.\n",
        "    # Yerel makinede Desktop/ gibi yollar yerine tam yol gerekebilir.\n",
        "    fout = open(\"yazmalik_dosya.txt\", 'w', encoding='utf-8') # Türkçe karakterler için encoding\n",
        "    satir1 = \"Bu ilk satır.\\n\"\n",
        "    satir2 = \"Bu da ikinci satır.\\n\"\n",
        "    fout.write(satir1)\n",
        "    fout.write(satir2)\n",
        "    fout.write(\"Sayı: \" + str(52) + \"\\n\") # Sayıyı string'e çevirip yazma\n",
        "\n",
        "    # Eski stil formatlama ile yazma\n",
        "    fout.write('%d aydır çalışıyorum, sınavdan %g %s.\\n' % (3, 82.5, 'aldım'))\n",
        "\n",
        "    # f-string ile yazma (daha modern)\n",
        "    isim = \"Ahmet\"\n",
        "    puan = 75.5\n",
        "    fout.write(f\"{isim}, {puan} puan aldı.\\n\")\n",
        "\n",
        "    fout.close() # Dosyayı kapatma\n",
        "    print(\"'yazmalik_dosya.txt' dosyası yazıldı.\")\n",
        "\n",
        "except Exception as e:\n",
        "    print(f\"Dosya yazma hatası: {e}\")\n",
        "\n",
        "# with open ile dosyaya ekleme ('a' modu)\n",
        "try:\n",
        "    with open(\"yazmalik_dosya.txt\", 'a', encoding='utf-8') as fa:\n",
        "        fa.write(\"Bu satır sona eklendi.\\n\")\n",
        "        fa.write(\"Bu da eklendi.\\n\")\n",
        "    # 'with' bloğu bittiğinde dosya otomatik kapanır.\n",
        "    print(\"'yazmalik_dosya.txt' dosyasına ekleme yapıldı.\")\n",
        "except Exception as e:\n",
        "    print(f\"Dosya ekleme hatası: {e}\")\n",
        "\n",
        "# Dosyadan okuma ('r' modu)\n",
        "try:\n",
        "    with open(\"yazmalik_dosya.txt\", 'r', encoding='utf-8') as fin:\n",
        "        print(\"\\nDosya İçeriği Okunuyor:\")\n",
        "        #icerik = fin.read() # Tüm içeriği tek string olarak okur\n",
        "        #print(icerik)\n",
        "\n",
        "        # Satır satır okuma\n",
        "        for satir in fin:\n",
        "            print(\"> \" + satir.strip()) # strip() baştaki/sondaki boşlukları ve satır sonu karakterini temizler\n",
        "\n",
        "except FileNotFoundError:\n",
        "    print(\"Okunacak dosya bulunamadı!\")\n",
        "except Exception as e:\n",
        "    print(f\"Dosya okuma hatası: {e}\")"
      ]
    },
    {
      "cell_type": "markdown",
      "metadata": {
        "id": "FBVc1WFBJsRa"
      },
      "source": [
        "## 15. `os` Modülü\n",
        "\n",
        "- İşletim sistemi ile ilgili işlemler yapmak için kullanılır.\n",
        "- `os.getcwd()`: Geçerli çalışma dizinini (Current Working Directory - CWD) verir.\n",
        "- `os.listdir()`: Bulunulan dizindeki dosya ve klasörleri listeler.\n",
        "- `os.path.exists(yol)`: Belirtilen yolun (dosya veya klasör) var olup olmadığını kontrol eder.\n",
        "- `os.path.isfile(yol)`: Yolun bir dosya olup olmadığını kontrol eder.\n",
        "- `os.path.isdir(yol)`: Yolun bir klasör olup olmadığını kontrol eder.\n",
        "- `os.path.abspath(yol)`: Göreceli bir yolun mutlak (tam) yolunu verir."
      ]
    },
    {
      "cell_type": "code",
      "execution_count": null,
      "metadata": {
        "colab": {
          "base_uri": "https://localhost:8080/"
        },
        "id": "7d0nN0ibJsRa",
        "outputId": "27cac929-f88f-4346-a5cc-54872460e74b"
      },
      "outputs": [
        {
          "output_type": "stream",
          "name": "stdout",
          "text": [
            "Geçerli Çalışma Dizini (CWD): /content\n",
            "\n",
            "CWD İçeriği:\n",
            "['.config', 'yazmalik_dosya.txt', 'sample_data']\n",
            "\n",
            "'yazmalik_dosya.txt' var mı? True\n",
            "'yazmalik_dosya.txt' bir dosya mı? True\n",
            "'yazmalik_dosya.txt' bir klasör mü? False\n",
            "'ornek_klasor' var mı? False\n",
            "'yazmalik_dosya.txt' mutlak yolu: /content/yazmalik_dosya.txt\n"
          ]
        }
      ],
      "source": [
        "import os\n",
        "\n",
        "# Geçerli çalışma dizini\n",
        "cwd = os.getcwd()\n",
        "print(f\"Geçerli Çalışma Dizini (CWD): {cwd}\")\n",
        "\n",
        "# Dizindeki dosyaları listeleme\n",
        "print(\"\\nCWD İçeriği:\")\n",
        "try:\n",
        "    icerik = os.listdir(cwd)\n",
        "    print(icerik)\n",
        "except Exception as e:\n",
        "    print(f\"Dizin listeleme hatası: {e}\")\n",
        "\n",
        "# Dosya ve klasör kontrolü\n",
        "dosya_adi = \"yazmalik_dosya.txt\"\n",
        "klasor_adi = \"ornek_klasor\"\n",
        "\n",
        "print(f\"\\n'{dosya_adi}' var mı? {os.path.exists(dosya_adi)}\")\n",
        "print(f\"'{dosya_adi}' bir dosya mı? {os.path.isfile(dosya_adi)}\")\n",
        "print(f\"'{dosya_adi}' bir klasör mü? {os.path.isdir(dosya_adi)}\")\n",
        "\n",
        "# Olmayan bir klasörü kontrol edelim\n",
        "print(f\"'{klasor_adi}' var mı? {os.path.exists(klasor_adi)}\")\n",
        "\n",
        "# Mutlak yol\n",
        "print(f\"'{dosya_adi}' mutlak yolu: {os.path.abspath(dosya_adi)}\")"
      ]
    },
    {
      "cell_type": "markdown",
      "metadata": {
        "id": "ShiCkDiIJsRa"
      },
      "source": [
        "# NumPy - Numerical Python"
      ]
    },
    {
      "cell_type": "markdown",
      "metadata": {
        "id": "1mXvbEONJsRa"
      },
      "source": [
        "## 1. Giriş ve Kurulum\n",
        "\n",
        "- NumPy, Python'da bilimsel ve matematiksel hesaplamalar için temel kütüphanedir.\n",
        "- Çok boyutlu diziler (array'ler) ve matrisler üzerinde yüksek performanslı işlemler sunar.\n",
        "- Veri analizi, makine öğrenmesi gibi alanlarda sıklıkla kullanılır.\n",
        "- `import numpy as np` komutu ile kütüphaneyi `np` kısaltmasıyla projemize dahil ederiz."
      ]
    },
    {
      "cell_type": "code",
      "execution_count": null,
      "metadata": {
        "colab": {
          "base_uri": "https://localhost:8080/"
        },
        "id": "HZhqXrDlJsRb",
        "outputId": "0330f829-7412-4cfb-ca74-5d9c33b7fb90"
      },
      "outputs": [
        {
          "output_type": "stream",
          "name": "stdout",
          "text": [
            "Python version: 3.11.12\n",
            "NumPy version: 2.0.2\n"
          ]
        }
      ],
      "source": [
        "import numpy as np\n",
        "import platform # Sistem bilgisini almak için\n",
        "\n",
        "print('Python version: ' + platform.python_version())\n",
        "print('NumPy version: ' + np.__version__)"
      ]
    },
    {
      "cell_type": "markdown",
      "metadata": {
        "id": "Kb6w0RvMJsRb"
      },
      "source": [
        "## 2. NumPy Veri Tipleri (dtypes)\n",
        "\n",
        "- NumPy dizilerindeki tüm elemanlar aynı veri tipinde olmalıdır.\n",
        "- Bu, bellek verimliliği ve işlem hızı sağlar.\n",
        "- **Yaygın Tipler**:\n",
        "  - `int32`, `int64`: Tam sayılar.\n",
        "  - `float32`, `float64`: Ondalıklı sayılar.\n",
        "  - `complex64`, `complex128`: Karmaşık sayılar.\n",
        "  - `bool`: `True` / `False`.\n",
        "  - `object`: Farklı tipleri barındırabilen esnek tip.\n",
        "  - `string_` (`S`): Belirli byte uzunluğundaki metinler (örn: `S10` - max 10 byte).\n",
        "  - `unicode_` (`U`): Unicode karakterler için metinler (örn: `U10` - max 10 karakter).\n",
        "- `dtype` parametresi ile dizi oluştururken tip belirlenebilir.\n",
        "- `arr.dtype` ile dizinin tipi öğrenilebilir.\n",
        "- `arr.astype(yeni_tip)` ile tip dönüşümü yapılabilir (yeni dizi döner)."
      ]
    },
    {
      "cell_type": "code",
      "execution_count": null,
      "metadata": {
        "colab": {
          "base_uri": "https://localhost:8080/"
        },
        "id": "GoWI_G1lJsRb",
        "outputId": "118cc57c-eca7-4c5b-ad75-73d306a90f35"
      },
      "outputs": [
        {
          "output_type": "stream",
          "name": "stdout",
          "text": [
            "Float Dizi: [1. 2. 3.]  Tipi: float32\n",
            "Complex Dizi: [1.+2.j 3.-4.j]  Tipi: complex64\n",
            "Boolean Dizi: [False  True  True False]  Tipi: bool\n",
            "String Dizi: [b'abc' b'def']  Tipi: |S3\n",
            "\n",
            "Mix Dizi: [1.  2.5 3. ]  Tipi: float64\n",
            "\n",
            "Int Dizi: [1 2 3 4]  Tipi: int64\n",
            "astype(float64) sonrası: [1. 2. 3. 4.]  Tipi: float64\n",
            "\n",
            "NumPy Veri Tipleri:\n",
            "          Type Type Code\n",
            "0         int8        i1\n",
            "1        uint8        u1\n",
            "2        int16        i2\n",
            "3       uint16        u2\n",
            "4        int32        i4\n",
            "5       uint32        u4\n",
            "6        int64        i8\n",
            "7       uint64        u8\n",
            "8      float16        f2\n",
            "9      float32   f4 or f\n",
            "10     float64   f8 or d\n",
            "11    float128  f16 or g\n",
            "12   complex64        c8\n",
            "13  complex128       c16\n",
            "14        bool          \n",
            "15      object         O\n",
            "16     string_         S\n",
            "17    unicode_         U\n"
          ]
        }
      ],
      "source": [
        "# Farklı dtype'lar ile dizi oluşturma\n",
        "arr_float = np.array([1, 2, 3], dtype='f4') # float32\n",
        "arr_complex = np.array([1+2j, 3-4j], dtype='c8') # complex64\n",
        "arr_bool = np.array([0, 1, 1, 0], dtype=\"bool\") # 0 -> False, diğer sayılar -> True\n",
        "arr_str = np.array(['abc', 'defg'], dtype='S3') # max 3 byte, 'defg' -> 'def'\n",
        "\n",
        "print(\"Float Dizi:\", arr_float, \" Tipi:\", arr_float.dtype)\n",
        "print(\"Complex Dizi:\", arr_complex, \" Tipi:\", arr_complex.dtype)\n",
        "print(\"Boolean Dizi:\", arr_bool, \" Tipi:\", arr_bool.dtype)\n",
        "print(\"String Dizi:\", arr_str, \" Tipi:\", arr_str.dtype)\n",
        "\n",
        "# Otomatik tip belirleme (genelde en kapsayıcı tip seçilir)\n",
        "arr_mix = np.array([1, 2.5, 3]) # İçinde float olduğu için hepsi float64 olur\n",
        "print(\"\\nMix Dizi:\", arr_mix, \" Tipi:\", arr_mix.dtype)\n",
        "\n",
        "# Tip Dönüşümü\n",
        "arr_int = np.array([1, 2, 3, 4])\n",
        "print(\"\\nInt Dizi:\", arr_int, \" Tipi:\", arr_int.dtype)\n",
        "arr_float_conv = arr_int.astype(np.float64)\n",
        "print(\"astype(float64) sonrası:\", arr_float_conv, \" Tipi:\", arr_float_conv.dtype)\n",
        "\n",
        "# Pandas ile dtype listesi (orijinal notebook'taki gibi)\n",
        "import pandas as pd\n",
        "dtypes = pd.DataFrame(\n",
        " {\n",
        " 'Type': ['int8', 'uint8', 'int16', 'uint16', 'int32', 'uint32', 'int64', 'uint64', 'float16', 'float32', 'float64', 'float128', 'complex64', 'complex128', 'bool', 'object', 'string_', 'unicode_'],\n",
        " 'Type Code': ['i1', 'u1', 'i2', 'u2', 'i4', 'u4', 'i8', 'u8', 'f2', 'f4 or f', 'f8 or d', 'f16 or g', 'c8', 'c16', '', 'O', 'S', 'U']\n",
        " }\n",
        ")\n",
        "print(\"\\nNumPy Veri Tipleri:\")\n",
        "print(dtypes)"
      ]
    },
    {
      "cell_type": "markdown",
      "metadata": {
        "id": "FYZOz_j7JsRb"
      },
      "source": [
        "## 3. NumPy Dizisi (Array) Oluşturma Yöntemleri\n",
        "\n",
        "- **`np.array(liste)`**: Python listelerinden veya tuple'larından dizi oluşturur.\n",
        "- **`np.arange(start, stop, step)`**: Belirtilen aralıkta dizi oluşturur (`stop` hariç).\n",
        "- **`np.linspace(start, stop, num)`**: `start` ve `stop` arasında (`stop` dahil) `num` adet eşit aralıklı eleman oluşturur.\n",
        "- **`np.zeros(shape)`**: Belirtilen şekilde (boyutta) 0'lardan oluşan dizi.\n",
        "- **`np.ones(shape)`**: Belirtilen şekilde 1'lerden oluşan dizi.\n",
        "- **`np.full(shape, fill_value)`**: Belirtilen şekilde, belirtilen değerle dolu dizi.\n",
        "- **`np.eye(N)`**: N x N boyutlu birim matris.\n",
        "- **`np.random.rand(d0, d1, ...)`**: 0-1 arasında uniform dağılımlı rastgele sayılar.\n",
        "- **`np.random.randn(d0, d1, ...)`**: Standart normal dağılımlı (ortalama 0, varyans 1) rastgele sayılar.\n",
        "- **`np.random.randint(low, high, size)`**: `low` (dahil) ile `high` (hariç) arasında rastgele tam sayılar."
      ]
    },
    {
      "cell_type": "code",
      "execution_count": null,
      "metadata": {
        "colab": {
          "base_uri": "https://localhost:8080/"
        },
        "id": "LZZyq3KwJsRb",
        "outputId": "cd97bc5d-c4b6-4d75-c8e1-ededf11db704"
      },
      "outputs": [
        {
          "output_type": "stream",
          "name": "stdout",
          "text": [
            "Listeden oluşturulan arr1: [1 2 3 4 5]\n",
            "İç içe listeden oluşturulan arr2:\n",
            " [[1 2]\n",
            " [3 4]]\n",
            "\n",
            "np.arange(0, 10, 2): [0 2 4 6 8]\n",
            "\n",
            "np.linspace(0, 5, 6): [0. 1. 2. 3. 4. 5.]\n",
            "\n",
            "np.zeros((2, 3)):\n",
            " [[0. 0. 0.]\n",
            " [0. 0. 0.]]\n",
            "\n",
            "np.ones((3, 2)):\n",
            " [[1. 1.]\n",
            " [1. 1.]\n",
            " [1. 1.]]\n",
            "\n",
            "np.full((2, 2), 99):\n",
            " [[99 99]\n",
            " [99 99]]\n",
            "\n",
            "np.eye(4):\n",
            " [[1. 0. 0. 0.]\n",
            " [0. 1. 0. 0.]\n",
            " [0. 0. 1. 0.]\n",
            " [0. 0. 0. 1.]]\n",
            "\n",
            "np.random.rand(2, 2):\n",
            " [[0.22398245 0.28744858]\n",
            " [0.65948928 0.80917685]]\n",
            "\n",
            "np.random.randn(2, 2):\n",
            " [[-0.24081262 -1.8602911 ]\n",
            " [ 0.45815097 -0.40503673]]\n",
            "\n",
            "np.random.randint(10, 20, size=(3, 3)):\n",
            " [[13 13 18]\n",
            " [15 16 13]\n",
            " [19 13 10]]\n"
          ]
        }
      ],
      "source": [
        "# Listeden array oluşturma\n",
        "liste1 = [1, 2, 3, 4, 5]\n",
        "arr1 = np.array(liste1)\n",
        "print(\"Listeden oluşturulan arr1:\", arr1)\n",
        "\n",
        "liste2 = [[1, 2], [3, 4]]\n",
        "arr2 = np.array(liste2)\n",
        "print(\"İç içe listeden oluşturulan arr2:\\n\", arr2)\n",
        "\n",
        "# arange ile array oluşturma\n",
        "arr3 = np.arange(0, 10, 2) # 0'dan 10'a kadar 2'şer artan\n",
        "print(\"\\nnp.arange(0, 10, 2):\", arr3)\n",
        "\n",
        "# linspace ile array oluşturma\n",
        "arr4 = np.linspace(0, 5, 6) # 0 ile 5 arasında 6 eleman\n",
        "print(\"\\nnp.linspace(0, 5, 6):\", arr4)\n",
        "\n",
        "# zeros, ones, full, eye\n",
        "arr_zeros = np.zeros((2, 3))\n",
        "print(\"\\nnp.zeros((2, 3)):\\n\", arr_zeros)\n",
        "\n",
        "arr_ones = np.ones((3, 2))\n",
        "print(\"\\nnp.ones((3, 2)):\\n\", arr_ones)\n",
        "\n",
        "arr_full = np.full((2, 2), 99)\n",
        "print(\"\\nnp.full((2, 2), 99):\\n\", arr_full)\n",
        "\n",
        "arr_eye = np.eye(4)\n",
        "print(\"\\nnp.eye(4):\\n\", arr_eye)\n",
        "\n",
        "# Rastgele sayılar\n",
        "arr_rand = np.random.rand(2, 2) # 0-1 arası uniform\n",
        "print(\"\\nnp.random.rand(2, 2):\\n\", arr_rand)\n",
        "\n",
        "arr_randn = np.random.randn(2, 2) # Standart normal dağılım\n",
        "print(\"\\nnp.random.randn(2, 2):\\n\", arr_randn)\n",
        "\n",
        "arr_randint = np.random.randint(10, 20, size=(3, 3)) # 10-19 arası tamsayılar\n",
        "print(\"\\nnp.random.randint(10, 20, size=(3, 3)):\\n\", arr_randint)"
      ]
    },
    {
      "cell_type": "markdown",
      "metadata": {
        "id": "NhsGlf39JsRb"
      },
      "source": [
        "## 4. Dizi Özellikleri (Attributes)\n",
        "\n",
        "- **`arr.ndim`**: Boyut sayısı (eksen sayısı).\n",
        "- **`arr.shape`**: Her boyuttaki eleman sayısı (tuple olarak).\n",
        "- **`arr.size`**: Toplam eleman sayısı.\n",
        "- **`arr.dtype`**: Elemanların veri tipi."
      ]
    },
    {
      "cell_type": "code",
      "execution_count": null,
      "metadata": {
        "colab": {
          "base_uri": "https://localhost:8080/"
        },
        "id": "c_R2Q7dDJsRb",
        "outputId": "e7926e75-6743-43d4-ad43-98608e75d556"
      },
      "outputs": [
        {
          "output_type": "stream",
          "name": "stdout",
          "text": [
            "Örnek Dizi arr:\n",
            " [[5 7 8 0]\n",
            " [1 7 6 6]\n",
            " [6 3 6 3]]\n",
            "\n",
            "Boyut Sayısı (ndim): 2\n",
            "Şekil (shape): (3, 4)\n",
            "Toplam Eleman Sayısı (size): 12\n",
            "Veri Tipi (dtype): int64\n"
          ]
        }
      ],
      "source": [
        "arr = np.random.randint(0, 10, size=(3, 4))\n",
        "print(\"Örnek Dizi arr:\\n\", arr)\n",
        "\n",
        "print(\"\\nBoyut Sayısı (ndim):\", arr.ndim)\n",
        "print(\"Şekil (shape):\", arr.shape)\n",
        "print(\"Toplam Eleman Sayısı (size):\", arr.size)\n",
        "print(\"Veri Tipi (dtype):\", arr.dtype)"
      ]
    },
    {
      "cell_type": "markdown",
      "metadata": {
        "id": "7wqNuOZRJsRb"
      },
      "source": [
        "## 5. Yeniden Şekillendirme (`reshape`, `resize`)\n",
        "\n",
        "- **`arr.reshape(yeni_sekil)`**: Dizinin toplam eleman sayısını değiştirmeden boyutlarını yeniden düzenler. Orijinal diziyi değiştirmez, yeni bir dizi (genellikle görünüm/view) döndürür.\n",
        "  - `yeni_sekil` tuple olarak verilir (örn: `(4, 3)`).\n",
        "  - Boyutlardan biri `-1` olarak verilirse, diğer boyutlara göre otomatik hesaplanır.\n",
        "- **`arr.resize(yeni_sekil)`**: Diziyi yerinde (in-place) yeniden şekillendirir. Orijinal diziyi değiştirir. Eleman sayısı değişirse dikkatli kullanılmalıdır."
      ]
    },
    {
      "cell_type": "code",
      "execution_count": null,
      "metadata": {
        "colab": {
          "base_uri": "https://localhost:8080/"
        },
        "id": "eVU__X5aJsRb",
        "outputId": "fc4689ad-d288-4d19-c42d-dcfce11864ad"
      },
      "outputs": [
        {
          "output_type": "stream",
          "name": "stdout",
          "text": [
            "Başlangıç dizisi arr: [ 0  1  2  3  4  5  6  7  8  9 10 11]\n",
            "arr.shape: (12,)\n",
            "\n",
            "arr.reshape((3, 4)):\n",
            " [[ 0  1  2  3]\n",
            " [ 4  5  6  7]\n",
            " [ 8  9 10 11]]\n",
            "reshape sonrası arr: [ 0  1  2  3  4  5  6  7  8  9 10 11]\n",
            "arr_reshaped.shape: (3, 4)\n",
            "\n",
            "arr.reshape((2, -1)):\n",
            " [[ 0  1  2  3  4  5]\n",
            " [ 6  7  8  9 10 11]]\n",
            "arr_reshaped_auto.shape: (2, 6)\n",
            "\n",
            "Başlangıç arr_for_resize: [0 1 2 3 4 5]\n",
            "resize((2, 3)) sonrası arr_for_resize:\n",
            " [[0 1 2]\n",
            " [3 4 5]]\n"
          ]
        }
      ],
      "source": [
        "arr = np.arange(12)\n",
        "print(\"Başlangıç dizisi arr:\", arr)\n",
        "print(\"arr.shape:\", arr.shape)\n",
        "\n",
        "# reshape kullanımı (orijinali değiştirmez)\n",
        "arr_reshaped = arr.reshape((3, 4))\n",
        "print(\"\\narr.reshape((3, 4)):\\n\", arr_reshaped)\n",
        "print(\"reshape sonrası arr:\", arr) # Orijinal değişmedi\n",
        "print(\"arr_reshaped.shape:\", arr_reshaped.shape)\n",
        "\n",
        "# reshape'de -1 kullanımı\n",
        "arr_reshaped_auto = arr.reshape((2, -1)) # Satır 2 olsun, sütunu kendi hesaplasın (6)\n",
        "print(\"\\narr.reshape((2, -1)):\\n\", arr_reshaped_auto)\n",
        "print(\"arr_reshaped_auto.shape:\", arr_reshaped_auto.shape)\n",
        "\n",
        "# resize kullanımı (orijinali değiştirir)\n",
        "arr_for_resize = np.arange(6)\n",
        "print(\"\\nBaşlangıç arr_for_resize:\", arr_for_resize)\n",
        "arr_for_resize.resize((2, 3)) # Yerinde değiştirir\n",
        "print(\"resize((2, 3)) sonrası arr_for_resize:\\n\", arr_for_resize)"
      ]
    },
    {
      "cell_type": "markdown",
      "metadata": {
        "id": "xruQyYIwJsRb"
      },
      "source": [
        "## 6. İndeksleme ve Dilimleme (Indexing & Slicing)\n",
        "\n",
        "- **Tek Boyutlu Diziler**: Python listeleri gibidir.\n",
        "  - `arr[index]`\n",
        "  - `arr[start:stop:step]`\n",
        "- **Çok Boyutlu Diziler**: Her boyut için indeks veya dilim virgülle ayrılır.\n",
        "  - `arr[satir_index, sutun_index]`\n",
        "  - `arr[satir_dilimi, sutun_dilimi]`\n",
        "- **Önemli Not**: Dilimleme ile elde edilen alt diziler (slice'lar) orijinal dizinin bir **görünümüdür (view)**. Alt dizide yapılan değişiklikler orijinal diziyi de etkiler! Bağımsız bir kopya isteniyorsa `.copy()` metodu kullanılmalıdır."
      ]
    },
    {
      "cell_type": "code",
      "execution_count": null,
      "metadata": {
        "colab": {
          "base_uri": "https://localhost:8080/"
        },
        "id": "Ak0rIXEJJsRc",
        "outputId": "cb5947ce-1c8d-4b53-9107-eebda91c0445"
      },
      "outputs": [
        {
          "output_type": "stream",
          "name": "stdout",
          "text": [
            "2 Boyutlu Dizi arr2d:\n",
            " [[1 2 3]\n",
            " [4 5 6]\n",
            " [7 8 9]]\n",
            "\n",
            "arr2d[1, 2] (1. satır, 2. sütun): 6\n",
            "arr2d[0][1] (alternatif yol): 2\n",
            "\n",
            "arr2d[:2, 1:] (ilk 2 satır, 1. sütundan sona kadar):\n",
            " [[2 3]\n",
            " [5 6]]\n",
            "\n",
            "arr2d[1, :] (1. satırın tamamı): [4 5 6]\n",
            "arr2d[:, 1] (1. sütunun tamamı): [2 5 8]\n",
            "\n",
            "Orijinal dilim arr2d_slice:\n",
            " [[1 2]\n",
            " [4 5]]\n",
            "\n",
            "Dilim değiştirildikten sonra arr2d_slice:\n",
            " [[99  2]\n",
            " [ 4  5]]\n",
            "\n",
            "Dilim değiştirildikten sonra ORİJİNAL arr2d:\n",
            " [[99  2  3]\n",
            " [ 4  5  6]\n",
            " [ 7  8  9]]\n",
            "\n",
            "Kopya arr2d_copy:\n",
            " [[111   3]\n",
            " [  5   6]]\n",
            "\n",
            "Kopya değiştirildikten sonra ORİJİNAL arr2d:\n",
            " [[99  2  3]\n",
            " [ 4  5  6]\n",
            " [ 7  8  9]]\n"
          ]
        }
      ],
      "source": [
        "# 2 Boyutlu dizi oluşturalım\n",
        "arr2d = np.array([[1, 2, 3], [4, 5, 6], [7, 8, 9]])\n",
        "print(\"2 Boyutlu Dizi arr2d:\\n\", arr2d)\n",
        "\n",
        "# Tek elemana erişim\n",
        "print(\"\\narr2d[1, 2] (1. satır, 2. sütun):\", arr2d[1, 2]) # Çıktı: 6\n",
        "print(\"arr2d[0][1] (alternatif yol):\", arr2d[0][1]) # Çıktı: 2\n",
        "\n",
        "# Dilimleme\n",
        "print(\"\\narr2d[:2, 1:] (ilk 2 satır, 1. sütundan sona kadar):\\n\", arr2d[:2, 1:])\n",
        "# Çıktı:\n",
        "# [[2 3]\n",
        "#  [5 6]]\n",
        "\n",
        "print(\"\\narr2d[1, :] (1. satırın tamamı):\", arr2d[1, :]) # Çıktı: [4 5 6]\n",
        "print(\"arr2d[:, 1] (1. sütunun tamamı):\", arr2d[:, 1]) # Çıktı: [2 5 8]\n",
        "\n",
        "# Dilimlemenin view (görünüm) olduğunu gösterme\n",
        "arr2d_slice = arr2d[:2, :2] # İlk 2 satır, ilk 2 sütun\n",
        "print(\"\\nOrijinal dilim arr2d_slice:\\n\", arr2d_slice)\n",
        "\n",
        "arr2d_slice[0, 0] = 99 # Dilim üzerinde değişiklik yapalım\n",
        "print(\"\\nDilim değiştirildikten sonra arr2d_slice:\\n\", arr2d_slice)\n",
        "print(\"\\nDilim değiştirildikten sonra ORİJİNAL arr2d:\\n\", arr2d) # Orijinal dizi de değişti!\n",
        "\n",
        "# Kopya oluşturma\n",
        "arr2d_copy = arr2d[:2, 1:].copy() # Bağımsız kopya\n",
        "arr2d_copy[0, 0] = 111 # Kopyayı değiştirelim\n",
        "print(\"\\nKopya arr2d_copy:\\n\", arr2d_copy)\n",
        "print(\"\\nKopya değiştirildikten sonra ORİJİNAL arr2d:\\n\", arr2d) # Orijinal dizi değişmedi"
      ]
    },
    {
      "cell_type": "markdown",
      "metadata": {
        "id": "Gcy4_1dyJsRc"
      },
      "source": [
        "## 7. Boolean İndeksleme\n",
        "\n",
        "- Bir koşul ifadesi (örn: `arr > 5`) kullanarak dizi elemanlarını filtrelemektir.\n",
        "- Koşul ifadesi, orijinal diziyle aynı boyutta bir boolean (`True`/`False`) dizi döndürür.\n",
        "- Bu boolean dizi, indeks olarak kullanıldığında sadece `True`'ya karşılık gelen elemanlar seçilir (sonuç genellikle 1 boyutlu olur).\n",
        "- Mantıksal operatörler `&` (VE) ve `|` (VEYA) ile birden fazla koşul birleştirilebilir (parantezlere dikkat!).\n",
        "- `np.where(kosul, deger_dogruysa, deger_yanlissa)`: Koşula göre elemanları farklı değerlerle değiştiren yeni bir dizi oluşturur.\n",
        "- `np.argwhere(kosul)`: Koşulu sağlayan elemanların indekslerini (satır, sütun şeklinde) verir."
      ]
    },
    {
      "cell_type": "code",
      "execution_count": null,
      "metadata": {
        "colab": {
          "base_uri": "https://localhost:8080/"
        },
        "id": "KB2A1u3qJsRc",
        "outputId": "a2ba58ba-7f45-49be-9e43-4677deed1eaf"
      },
      "outputs": [
        {
          "output_type": "stream",
          "name": "stdout",
          "text": [
            "Dizi arr:\n",
            " [[ 1  2  3  4]\n",
            " [ 5  6  7  8]\n",
            " [ 9 10 11 12]\n",
            " [13 14 15 16]]\n",
            "\n",
            "Koşul (arr > 10):\n",
            " [[False False False False]\n",
            " [False False False False]\n",
            " [False False  True  True]\n",
            " [ True  True  True  True]]\n",
            "\n",
            "Koşulu sağlayan elemanlar (arr[arr > 10]): [11 12 13 14 15 16]\n",
            "\n",
            "10'dan küçük çift sayılar: [2 4 6 8]\n",
            "\n",
            "np.where(arr > 8, -1, arr):\n",
            " [[ 1  2  3  4]\n",
            " [ 5  6  7  8]\n",
            " [-1 -1 -1 -1]\n",
            " [-1 -1 -1 -1]]\n",
            "\n",
            "12'den büyük elemanların indeksleri (np.argwhere(arr > 12)):\n",
            " [[3 0]\n",
            " [3 1]\n",
            " [3 2]\n",
            " [3 3]]\n"
          ]
        }
      ],
      "source": [
        "arr = np.arange(1, 17).reshape((4, 4))\n",
        "print(\"Dizi arr:\\n\", arr)\n",
        "\n",
        "# Koşul oluşturma\n",
        "kosul = arr > 10\n",
        "print(\"\\nKoşul (arr > 10):\\n\", kosul)\n",
        "\n",
        "# Boolean indeksleme ile eleman seçme\n",
        "secilenler = arr[kosul] # veya arr[arr > 10]\n",
        "print(\"\\nKoşulu sağlayan elemanlar (arr[arr > 10]):\", secilenler)\n",
        "\n",
        "# Birden fazla koşul\n",
        "cift_ve_kucuk10 = arr[(arr % 2 == 0) & (arr < 10)]\n",
        "print(\"\\n10'dan küçük çift sayılar:\", cift_ve_kucuk10)\n",
        "\n",
        "# np.where kullanımı\n",
        "arr_where = np.where(arr > 8, -1, arr) # 8'den büyükse -1, değilse kendi değeri\n",
        "print(\"\\nnp.where(arr > 8, -1, arr):\\n\", arr_where)\n",
        "\n",
        "# np.argwhere kullanımı\n",
        "indeksler = np.argwhere(arr > 12)\n",
        "print(\"\\n12'den büyük elemanların indeksleri (np.argwhere(arr > 12)):\\n\", indeksler)"
      ]
    },
    {
      "cell_type": "markdown",
      "metadata": {
        "id": "85QcbJT0JsRc"
      },
      "source": [
        "## 8. Fancy İndeksleme\n",
        "\n",
        "- İndeks olarak tam sayı listeleri veya dizileri kullanarak eleman seçmektir.\n",
        "- Belirli satırları, belirli sütunları veya belirli koordinatlardaki elemanları seçmek için kullanılır.\n",
        "- Boolean indekslemenin aksine, sonuç her zaman orijinal dizinin bir **kopyasıdır**."
      ]
    },
    {
      "cell_type": "code",
      "execution_count": null,
      "metadata": {
        "colab": {
          "base_uri": "https://localhost:8080/"
        },
        "id": "OokPce9lJsRc",
        "outputId": "54b0203c-803f-4743-e955-b8550c035ea3"
      },
      "outputs": [
        {
          "output_type": "stream",
          "name": "stdout",
          "text": [
            "Dizi arr:\n",
            " [[ 0  1  2  3  4]\n",
            " [ 5  6  7  8  9]\n",
            " [10 11 12 13 14]\n",
            " [15 16 17 18 19]\n",
            " [20 21 22 23 24]]\n",
            "\n",
            "arr[[0, 2, 4]]:\n",
            " [[ 0  1  2  3  4]\n",
            " [10 11 12 13 14]\n",
            " [20 21 22 23 24]]\n",
            "\n",
            "arr[:, [1, 3]]:\n",
            " [[ 1  3]\n",
            " [ 6  8]\n",
            " [11 13]\n",
            " [16 18]\n",
            " [21 23]]\n",
            "\n",
            "arr[[0, 1, 2], [1, 3, 0]]: [ 1  8 10]\n",
            "\n",
            "arr[[1, 3]][:, [0, 4]]:\n",
            " [[ 5  9]\n",
            " [15 19]]\n"
          ]
        }
      ],
      "source": [
        "arr = np.arange(25).reshape((5, 5))\n",
        "print(\"Dizi arr:\\n\", arr)\n",
        "\n",
        "# Belirli satırları seçme\n",
        "secilen_satirlar = arr[[0, 2, 4]] # 0., 2. ve 4. satırlar\n",
        "print(\"\\narr[[0, 2, 4]]:\\n\", secilen_satirlar)\n",
        "\n",
        "# Belirli sütunları seçme\n",
        "secilen_sutunlar = arr[:, [1, 3]] # Tüm satırlar, 1. ve 3. sütunlar\n",
        "print(\"\\narr[:, [1, 3]]:\\n\", secilen_sutunlar)\n",
        "\n",
        "# Belirli koordinatlardaki elemanları seçme\n",
        "secilen_elemanlar = arr[[0, 1, 2], [1, 3, 0]] # (0,1), (1,3) ve (2,0) elemanları\n",
        "print(\"\\narr[[0, 1, 2], [1, 3, 0]]:\", secilen_elemanlar)\n",
        "\n",
        "# Satır ve sütunları fancy indeksleme ile birleştirme\n",
        "# 1. ve 3. satırların, 0. ve 4. sütunlarını seçme\n",
        "alt_matris = arr[[1, 3]][:, [0, 4]]\n",
        "print(\"\\narr[[1, 3]][:, [0, 4]]:\\n\", alt_matris)"
      ]
    },
    {
      "cell_type": "markdown",
      "metadata": {
        "id": "iEteeWfbJsRc"
      },
      "source": [
        "## 9. Evrensel Fonksiyonlar (Universal Functions - ufuncs)\n",
        "\n",
        "- NumPy dizileri üzerinde eleman bazında (element-wise) hızlı işlemler yapan fonksiyonlardır.\n",
        "\n",
        "### 9.1. Aritmetik ve Matematiksel ufuncs\n",
        "- `np.add(arr1, arr2)` veya `arr1 + arr2`\n",
        "- `np.subtract(arr1, arr2)` veya `arr1 - arr2`\n",
        "- `np.multiply(arr1, arr2)` veya `arr1 * arr2` (Eleman bazında çarpım! Matris çarpımı değil)\n",
        "- `np.divide(arr1, arr2)` veya `arr1 / arr2`\n",
        "- `np.power(arr, us)` veya `arr ** us`\n",
        "- `np.sqrt(arr)`: Karekök.\n",
        "- `np.exp(arr)`: $e^{arr}$ (üstel fonksiyon).\n",
        "- `np.log(arr)`, `np.log10(arr)`, `np.log2(arr)`: Doğal, 10 tabanlı, 2 tabanlı logaritma.\n",
        "- `np.sin(arr)`, `np.cos(arr)`, `np.tan(arr)`: Trigonometrik fonksiyonlar.\n",
        "- `np.abs(arr)`: Mutlak değer.\n",
        "- `np.ceil(arr)`, `np.floor(arr)`, `np.round(arr)`: Yukarı yuvarlama, aşağı yuvarlama, en yakına yuvarlama.\n",
        "- `np.mod(arr1, arr2)`: Eleman bazında modül.\n",
        "- `np.maximum(arr1, arr2)`, `np.minimum(arr1, arr2)`: Eleman bazında karşılaştırıp büyük/küçük olanı alır."
      ]
    },
    {
      "cell_type": "code",
      "execution_count": null,
      "metadata": {
        "colab": {
          "base_uri": "https://localhost:8080/"
        },
        "id": "_QiOUo20JsRc",
        "outputId": "93b13edc-c7d4-44ca-860a-ffb4c67fbe18"
      },
      "outputs": [
        {
          "output_type": "stream",
          "name": "stdout",
          "text": [
            "Dizi arr: [1 2 3 4]\n",
            "arr + 5: [6 7 8 9]\n",
            "arr * 2: [2 4 6 8]\n",
            "arr ** 2: [ 1  4  9 16]\n",
            "np.sqrt(arr): [1.         1.41421356 1.73205081 2.        ]\n",
            "np.exp(arr): [ 2.71828183  7.3890561  20.08553692 54.59815003]\n",
            "\n",
            "arr1: [1 5 3]\n",
            "arr2: [2 2 6]\n",
            "np.maximum(arr1, arr2): [2 5 6]\n"
          ]
        }
      ],
      "source": [
        "arr = np.arange(1, 5)\n",
        "print(\"Dizi arr:\", arr)\n",
        "\n",
        "print(\"arr + 5:\", arr + 5) # Skaler ile işlem\n",
        "print(\"arr * 2:\", arr * 2)\n",
        "print(\"arr ** 2:\", arr ** 2)\n",
        "print(\"np.sqrt(arr):\", np.sqrt(arr))\n",
        "print(\"np.exp(arr):\", np.exp(arr))\n",
        "\n",
        "arr1 = np.array([1, 5, 3])\n",
        "arr2 = np.array([2, 2, 6])\n",
        "print(\"\\narr1:\", arr1)\n",
        "print(\"arr2:\", arr2)\n",
        "print(\"np.maximum(arr1, arr2):\", np.maximum(arr1, arr2))"
      ]
    },
    {
      "cell_type": "markdown",
      "metadata": {
        "id": "DQDICyulJsRc"
      },
      "source": [
        "### 9.2. İstatistiksel Metotlar ve Eksenler (`axis`)\n",
        "- `arr.sum()` veya `np.sum(arr)`: Tüm elemanların toplamı.\n",
        "- `arr.mean()` veya `np.mean(arr)`: Ortalama.\n",
        "- `arr.std()` veya `np.std(arr)`: Standart sapma.\n",
        "- `arr.var()` veya `np.var(arr)`: Varyans.\n",
        "- `arr.min()` veya `np.min(arr)`: Minimum değer.\n",
        "- `arr.max()` veya `np.max(arr)`: Maksimum değer.\n",
        "- `arr.argmin()` veya `np.argmin(arr)`: Minimum değerin indeksi (düzleştirilmiş dizide).\n",
        "- `arr.argmax()` veya `np.argmax(arr)`: Maksimum değerin indeksi (düzleştirilmiş dizide).\n",
        "- `arr.cumsum()` veya `np.cumsum(arr)`: Kümülatif toplam.\n",
        "- `arr.cumprod()` veya `np.cumprod(arr)`: Kümülatif çarpım.\n",
        "\n",
        "- **`axis` Parametresi**: Bu fonksiyonların çoğu `axis` parametresi alır.\n",
        "  - `axis=0`: İşlemi sütunlar boyunca (dikey) yapar, sonuç her sütun için bir değer olur.\n",
        "  - `axis=1`: İşlemi satırlar boyunca (yatay) yapar, sonuç her satır için bir değer olur.\n",
        "  - `axis=None` (varsayılan): İşlemi tüm dizi üzerinde yapar, tek bir sonuç döner."
      ]
    },
    {
      "cell_type": "code",
      "execution_count": null,
      "metadata": {
        "colab": {
          "base_uri": "https://localhost:8080/"
        },
        "id": "_oyE-gbiJsRc",
        "outputId": "b10bbc3d-f649-4d4d-ea54-f2c87a24296c"
      },
      "outputs": [
        {
          "output_type": "stream",
          "name": "stdout",
          "text": [
            "Dizi arr:\n",
            " [[1 2 3]\n",
            " [4 5 6]]\n",
            "arr.sum(): 21\n",
            "arr.mean(): 3.5\n",
            "arr.max(): 6\n",
            "arr.min(): 1\n",
            "\n",
            "arr.sum(axis=0) (Sütun toplamları): [5 7 9]\n",
            "arr.sum(axis=1) (Satır toplamları): [ 6 15]\n",
            "arr.mean(axis=0) (Sütun ortalamaları): [2.5 3.5 4.5]\n",
            "arr.max(axis=1) (Satır maksimumları): [3 6]\n",
            "arr.cumsum(axis=1) (Satır kümülatif toplamları):\n",
            " [[ 1  3  6]\n",
            " [ 4  9 15]]\n"
          ]
        }
      ],
      "source": [
        "arr = np.array([[1, 2, 3], [4, 5, 6]])\n",
        "print(\"Dizi arr:\\n\", arr)\n",
        "\n",
        "print(\"arr.sum():\", arr.sum()) # Tüm elemanların toplamı (21)\n",
        "print(\"arr.mean():\", arr.mean()) # Tüm elemanların ortalaması (3.5)\n",
        "print(\"arr.max():\", arr.max()) # En büyük eleman (6)\n",
        "print(\"arr.min():\", arr.min()) # En küçük eleman (1)\n",
        "\n",
        "# Eksen bazında işlemler\n",
        "print(\"\\narr.sum(axis=0) (Sütun toplamları):\", arr.sum(axis=0)) # [1+4, 2+5, 3+6] -> [5 7 9]\n",
        "print(\"arr.sum(axis=1) (Satır toplamları):\", arr.sum(axis=1)) # [1+2+3, 4+5+6] -> [ 6 15]\n",
        "\n",
        "print(\"arr.mean(axis=0) (Sütun ortalamaları):\", arr.mean(axis=0))\n",
        "print(\"arr.max(axis=1) (Satır maksimumları):\", arr.max(axis=1))\n",
        "\n",
        "print(\"arr.cumsum(axis=1) (Satır kümülatif toplamları):\\n\", arr.cumsum(axis=1))\n",
        "# [[1, 1+2, 1+2+3],\n",
        "#  [4, 4+5, 4+5+6]] -> [[ 1  3  6], [ 4  9 15]]"
      ]
    },
    {
      "cell_type": "markdown",
      "metadata": {
        "id": "P9BeiyOPJsRc"
      },
      "source": [
        "## 10. Sıralama (`sort`, `argsort`)\n",
        "\n",
        "- **`np.sort(arr, axis=-1)`**: Dizinin sıralanmış bir **kopyasını** döndürür.\n",
        "  - `axis=-1` (varsayılan): Son eksen boyunca (genellikle satırlar) sıralar.\n",
        "  - `axis=0`: Sütunlar boyunca sıralar.\n",
        "  - `axis=None`: Diziyi düzleştirip sıralar.\n",
        "- **`arr.sort(axis=-1)`**: Diziyi yerinde (in-place) sıralar. Değer döndürmez (None).\n",
        "- **`np.argsort(arr, axis=-1)`**: Diziyi sıralayacak olan **indeksleri** döndürür. Orijinal diziyi değiştirmez."
      ]
    },
    {
      "cell_type": "code",
      "execution_count": null,
      "metadata": {
        "colab": {
          "base_uri": "https://localhost:8080/"
        },
        "id": "GojZ36V6JsRd",
        "outputId": "5fe9256d-c40b-4ad8-f345-677699cca6c0"
      },
      "outputs": [
        {
          "output_type": "stream",
          "name": "stdout",
          "text": [
            "Sırasız Dizi arr:\n",
            " [[1 5 6 1]\n",
            " [6 9 5 9]\n",
            " [9 9 5 6]]\n",
            "\n",
            "Satırları sıralanmış (kopya):\n",
            " [[1 1 5 6]\n",
            " [5 6 9 9]\n",
            " [5 6 9 9]]\n",
            "\n",
            "Sütunları sıralanmış (kopya):\n",
            " [[1 5 5 1]\n",
            " [6 9 5 6]\n",
            " [9 9 6 9]]\n",
            "\n",
            "np.sort sonrası orijinal arr:\n",
            " [[1 5 6 1]\n",
            " [6 9 5 9]\n",
            " [9 9 5 6]]\n",
            "\n",
            "arr.sort(axis=1) sonrası (yerinde):\n",
            " [[1 1 5 6]\n",
            " [5 6 9 9]\n",
            " [5 6 9 9]]\n",
            "\n",
            "Satırları sıralayan indeksler (np.argsort(axis=1)):\n",
            " [[0 3 1 2]\n",
            " [2 0 1 3]\n",
            " [2 3 1 0]]\n"
          ]
        }
      ],
      "source": [
        "arr = np.random.randint(1, 10, size=(3, 4))\n",
        "print(\"Sırasız Dizi arr:\\n\", arr)\n",
        "\n",
        "# np.sort (kopya döndürür)\n",
        "arr_sorted_rows = np.sort(arr, axis=1) # Satırları sırala\n",
        "print(\"\\nSatırları sıralanmış (kopya):\\n\", arr_sorted_rows)\n",
        "\n",
        "arr_sorted_cols = np.sort(arr, axis=0) # Sütunları sırala\n",
        "print(\"\\nSütunları sıralanmış (kopya):\\n\", arr_sorted_cols)\n",
        "\n",
        "print(\"\\nnp.sort sonrası orijinal arr:\\n\", arr) # Orijinal değişmedi\n",
        "\n",
        "# arr.sort (yerinde sıralar)\n",
        "arr_copy = arr.copy()\n",
        "arr_copy.sort(axis=1) # Satırları yerinde sırala\n",
        "print(\"\\narr.sort(axis=1) sonrası (yerinde):\\n\", arr_copy)\n",
        "\n",
        "# np.argsort (indeksleri döndürür)\n",
        "arr_indices = np.argsort(arr, axis=1) # Satırları sıralayan indeksler\n",
        "print(\"\\nSatırları sıralayan indeksler (np.argsort(axis=1)):\\n\", arr_indices)"
      ]
    },
    {
      "cell_type": "markdown",
      "metadata": {
        "id": "_Yf1gG_sJsRd"
      },
      "source": [
        "## 11. Dizi Manipülasyonu\n",
        "\n",
        "### 11.1. Transpoz (`.T`, `transpose`, `swapaxes`)\n",
        "- **`arr.T`**: Dizinin transpozunu (satırlarla sütunların yer değiştirmesi) alır. Görünüm (view) döndürür.\n",
        "- **`np.transpose(arr)`** veya **`arr.transpose()`**: Transpoz alır. Çok boyutlu dizilerde eksenlerin sırasını belirten bir tuple alabilir: `arr.transpose((1, 0, 2))`.\n",
        "- **`arr.swapaxes(axis1, axis2)`**: Belirtilen iki eksenin yerini değiştirir. Görünüm (view) döndürür."
      ]
    },
    {
      "cell_type": "code",
      "execution_count": null,
      "metadata": {
        "colab": {
          "base_uri": "https://localhost:8080/"
        },
        "id": "FmVyhQOZJsRd",
        "outputId": "1abf2913-4164-4fd4-8358-7f6382cf79d0"
      },
      "outputs": [
        {
          "output_type": "stream",
          "name": "stdout",
          "text": [
            "Dizi arr:\n",
            " [[0 1 2]\n",
            " [3 4 5]]\n",
            "arr.T (Transpoz):\n",
            " [[0 3]\n",
            " [1 4]\n",
            " [2 5]]\n",
            "\n",
            "3 Boyutlu Dizi arr3d (shape: (2, 2, 3)):\n",
            "[[[ 0  1  2]\n",
            "  [ 3  4  5]]\n",
            "\n",
            " [[ 6  7  8]\n",
            "  [ 9 10 11]]]\n",
            "\n",
            "arr3d.transpose((1, 0, 2)) (shape: (2, 2, 3)):\n",
            "[[[ 0  1  2]\n",
            "  [ 6  7  8]]\n",
            "\n",
            " [[ 3  4  5]\n",
            "  [ 9 10 11]]]\n",
            "\n",
            "arr.swapaxes(0, 1):\n",
            " [[0 3]\n",
            " [1 4]\n",
            " [2 5]]\n"
          ]
        }
      ],
      "source": [
        "arr = np.arange(6).reshape((2, 3))\n",
        "print(\"Dizi arr:\\n\", arr)\n",
        "\n",
        "print(\"arr.T (Transpoz):\\n\", arr.T)\n",
        "\n",
        "arr3d = np.arange(12).reshape((2, 2, 3))\n",
        "print(\"\\n3 Boyutlu Dizi arr3d (shape: {}):\\n{}\".format(arr3d.shape, arr3d))\n",
        "\n",
        "# Eksen sırasını değiştirme (0, 1, 2) -> (1, 0, 2)\n",
        "arr_transposed = arr3d.transpose((1, 0, 2))\n",
        "print(\"\\narr3d.transpose((1, 0, 2)) (shape: {}):\\n{}\".format(arr_transposed.shape, arr_transposed))\n",
        "\n",
        "# Eksen değiştirme (swapaxes)\n",
        "arr_swapped = arr.swapaxes(0, 1)\n",
        "print(\"\\narr.swapaxes(0, 1):\\n\", arr_swapped)"
      ]
    },
    {
      "cell_type": "markdown",
      "metadata": {
        "id": "IPpFJZ8ZJsRd"
      },
      "source": [
        "### 11.2. Düzleştirme (`flatten`, `ravel`)\n",
        "- **`arr.flatten()`**: Çok boyutlu diziyi tek boyutlu hale getirir. Her zaman **kopya** döndürür.\n",
        "- **`arr.ravel()`**: Çok boyutlu diziyi tek boyutlu hale getirir. Mümkünse **görünüm (view)** döndürür (daha verimli), değilse kopya döndürür."
      ]
    },
    {
      "cell_type": "code",
      "execution_count": null,
      "metadata": {
        "colab": {
          "base_uri": "https://localhost:8080/"
        },
        "id": "EuN2PrLeJsRd",
        "outputId": "a13c0178-16cb-49f0-b1e2-605862c2cd89"
      },
      "outputs": [
        {
          "output_type": "stream",
          "name": "stdout",
          "text": [
            "Dizi arr:\n",
            " [[1 2]\n",
            " [3 4]]\n",
            "arr.flatten(): [1 2 3 4]\n",
            "flatten sonrası orijinal arr:\n",
            " [[1 2]\n",
            " [3 4]]\n",
            "\n",
            "arr.ravel(): [1 2 3 4]\n",
            "ravel sonrası orijinal arr:\n",
            " [[88  2]\n",
            " [ 3  4]]\n"
          ]
        }
      ],
      "source": [
        "arr = np.array([[1, 2], [3, 4]])\n",
        "print(\"Dizi arr:\\n\", arr)\n",
        "\n",
        "arr_flat = arr.flatten()\n",
        "print(\"arr.flatten():\", arr_flat)\n",
        "arr_flat[0] = 99 # Kopyayı değiştirmek orijinali etkilemez\n",
        "print(\"flatten sonrası orijinal arr:\\n\", arr)\n",
        "\n",
        "arr_ravel = arr.ravel()\n",
        "print(\"\\narr.ravel():\", arr_ravel)\n",
        "arr_ravel[0] = 88 # Görünümü değiştirmek orijinali etkiler\n",
        "print(\"ravel sonrası orijinal arr:\\n\", arr)"
      ]
    },
    {
      "cell_type": "markdown",
      "metadata": {
        "id": "DZmmJzjQJsRd"
      },
      "source": [
        "### 11.3. Ekleme, Silme, Araya Ekleme (`append`, `insert`, `delete`)\n",
        "- **`np.append(arr, values, axis=None)`**: `values`'ı `arr`'ın sonuna ekler. `axis` belirtilmezse diziler düzleştirilip birleştirilir. `axis` belirtilirse, belirtilen eksen boyunca ekleme yapılır (boyutlar uyumlu olmalı). Kopya döndürür.\n",
        "- **`np.insert(arr, obj, values, axis=None)`**: `values`'ı `arr` içine, `obj` ile belirtilen indeks(ler)den *önce* ekler. Kopya döndürür.\n",
        "- **`np.delete(arr, obj, axis=None)`**: `arr`'dan `obj` ile belirtilen indeks(ler)deki elemanları/dilimleri siler. Kopya döndürür."
      ]
    },
    {
      "cell_type": "code",
      "execution_count": null,
      "metadata": {
        "colab": {
          "base_uri": "https://localhost:8080/"
        },
        "id": "2osbMbLfJsRd",
        "outputId": "3309ec02-fdaf-4069-93d0-b3a4360f36de"
      },
      "outputs": [
        {
          "output_type": "stream",
          "name": "stdout",
          "text": [
            "Dizi arr: [1 2 3]\n",
            "np.append(arr, [4, 5]): [1 2 3 4 5]\n",
            "\n",
            "np.append(axis=0):\n",
            " [[1 2]\n",
            " [3 4]\n",
            " [5 6]]\n",
            "\n",
            "np.append(axis=1):\n",
            " [[1 2 7]\n",
            " [3 4 8]]\n",
            "\n",
            "np.insert(arr, 1, 99): [ 1 99  2  3]\n",
            "np.insert(arr, [1, 3], [88, 77]): [ 1 88  2  3 77]\n",
            "\n",
            "np.delete(arr_appended, [0, 2]): [2 4 5]\n",
            "\n",
            "np.delete(axis=0):\n",
            " [[1 2]\n",
            " [5 6]]\n"
          ]
        }
      ],
      "source": [
        "arr = np.array([1, 2, 3])\n",
        "print(\"Dizi arr:\", arr)\n",
        "\n",
        "# append\n",
        "arr_appended = np.append(arr, [4, 5])\n",
        "print(\"np.append(arr, [4, 5]):\", arr_appended)\n",
        "\n",
        "arr2d = np.array([[1,2],[3,4]])\n",
        "arr_appended_axis0 = np.append(arr2d, [[5,6]], axis=0) # Satır ekleme\n",
        "print(\"\\nnp.append(axis=0):\\n\", arr_appended_axis0)\n",
        "arr_appended_axis1 = np.append(arr2d, [[7],[8]], axis=1) # Sütun ekleme\n",
        "print(\"\\nnp.append(axis=1):\\n\", arr_appended_axis1)\n",
        "\n",
        "# insert\n",
        "arr_inserted = np.insert(arr, 1, 99) # 1. indeksten önce 99 ekle\n",
        "print(\"\\nnp.insert(arr, 1, 99):\", arr_inserted)\n",
        "arr_inserted_multi = np.insert(arr, [1, 3], [88, 77]) # 1. ve 3. indexten önce ekle\n",
        "print(\"np.insert(arr, [1, 3], [88, 77]):\", arr_inserted_multi)\n",
        "\n",
        "# delete\n",
        "arr_deleted = np.delete(arr_appended, [0, 2]) # 0. ve 2. indeksteki elemanları sil\n",
        "print(\"\\nnp.delete(arr_appended, [0, 2]):\", arr_deleted)\n",
        "\n",
        "arr_deleted_axis0 = np.delete(arr_appended_axis0, 1, axis=0) # 1. satırı sil\n",
        "print(\"\\nnp.delete(axis=0):\\n\", arr_deleted_axis0)"
      ]
    },
    {
      "cell_type": "markdown",
      "metadata": {
        "id": "fpHGiI9nJsRd"
      },
      "source": [
        "## 12. Dizileri Birleştirme ve Bölme\n",
        "\n",
        "### 12.1. Birleştirme (`concatenate`, `vstack`, `hstack`)\n",
        "- **`np.concatenate((arr1, arr2, ...), axis=0)`**: Dizileri belirtilen eksen boyunca birleştirir. Boyutlar diğer eksenlerde aynı olmalıdır.\n",
        "- **`np.vstack((arr1, arr2, ...))`**: Dizileri dikey olarak (üst üste) birleştirir (`concatenate`'in `axis=0` hali).\n",
        "- **`np.hstack((arr1, arr2, ...))`**: Dizileri yatay olarak (yan yana) birleştirir (`concatenate`'in `axis=1` hali)."
      ]
    },
    {
      "cell_type": "code",
      "execution_count": null,
      "metadata": {
        "colab": {
          "base_uri": "https://localhost:8080/"
        },
        "id": "NmbNCJhSJsRd",
        "outputId": "4fdbaa73-31f6-443e-c186-374ae4fc6033"
      },
      "outputs": [
        {
          "output_type": "stream",
          "name": "stdout",
          "text": [
            "arr1:\n",
            " [[1 2]\n",
            " [3 4]]\n",
            "arr2:\n",
            " [[5 6]\n",
            " [7 8]]\n",
            "\n",
            "np.concatenate (axis=0):\n",
            " [[1 2]\n",
            " [3 4]\n",
            " [5 6]\n",
            " [7 8]]\n",
            "\n",
            "np.concatenate (axis=1):\n",
            " [[1 2 5 6]\n",
            " [3 4 7 8]]\n",
            "\n",
            "np.vstack:\n",
            " [[1 2]\n",
            " [3 4]\n",
            " [5 6]\n",
            " [7 8]]\n",
            "\n",
            "np.hstack:\n",
            " [[1 2 5 6]\n",
            " [3 4 7 8]]\n"
          ]
        }
      ],
      "source": [
        "arr1 = np.array([[1, 2], [3, 4]])\n",
        "arr2 = np.array([[5, 6], [7, 8]])\n",
        "print(\"arr1:\\n\", arr1)\n",
        "print(\"arr2:\\n\", arr2)\n",
        "\n",
        "# concatenate\n",
        "arr_cat_axis0 = np.concatenate((arr1, arr2), axis=0)\n",
        "print(\"\\nnp.concatenate (axis=0):\\n\", arr_cat_axis0)\n",
        "arr_cat_axis1 = np.concatenate((arr1, arr2), axis=1)\n",
        "print(\"\\nnp.concatenate (axis=1):\\n\", arr_cat_axis1)\n",
        "\n",
        "# vstack (vertical stack)\n",
        "arr_vstack = np.vstack((arr1, arr2))\n",
        "print(\"\\nnp.vstack:\\n\", arr_vstack)\n",
        "\n",
        "# hstack (horizontal stack)\n",
        "arr_hstack = np.hstack((arr1, arr2))\n",
        "print(\"\\nnp.hstack:\\n\", arr_hstack)"
      ]
    },
    {
      "cell_type": "markdown",
      "metadata": {
        "id": "zyL9g2WcJsRd"
      },
      "source": [
        "### 12.2. Bölme (`split`, `vsplit`, `hsplit`)\n",
        "- **`np.split(arr, indices_or_sections, axis=0)`**: Diziyi belirtilen eksen boyunca böler.\n",
        "  - `indices_or_sections` bir tamsayı (`N`) ise, dizi `N` eşit parçaya bölünür (bölünebiliyorsa).\n",
        "  - `indices_or_sections` bir liste veya dizi ise, belirtilen indekslerden *önce* bölme yapılır.\n",
        "- **`np.vsplit(arr, indices_or_sections)`**: Diziyi dikey olarak böler (`split`'in `axis=0` hali).\n",
        "- **`np.hsplit(arr, indices_or_sections)`**: Diziyi yatay olarak böler (`split`'in `axis=1` hali)."
      ]
    },
    {
      "cell_type": "code",
      "execution_count": null,
      "metadata": {
        "colab": {
          "base_uri": "https://localhost:8080/"
        },
        "id": "sOPWncw8JsRd",
        "outputId": "45992e12-e01d-416b-8950-e893c3fc4b30"
      },
      "outputs": [
        {
          "output_type": "stream",
          "name": "stdout",
          "text": [
            "Dizi arr:\n",
            " [[ 0  1  2  3]\n",
            " [ 4  5  6  7]\n",
            " [ 8  9 10 11]\n",
            " [12 13 14 15]]\n",
            "\n",
            "np.split(axis=0, sections=2):\n",
            "Parça 1:\n",
            " [[0 1 2 3]\n",
            " [4 5 6 7]]\n",
            "Parça 2:\n",
            " [[ 8  9 10 11]\n",
            " [12 13 14 15]]\n",
            "\n",
            "np.split(axis=1, sections=2):\n",
            "Parça 1:\n",
            " [[ 0  1]\n",
            " [ 4  5]\n",
            " [ 8  9]\n",
            " [12 13]]\n",
            "Parça 2:\n",
            " [[ 2  3]\n",
            " [ 6  7]\n",
            " [10 11]\n",
            " [14 15]]\n",
            "\n",
            "np.split(axis=0, indices=[1, 3]):\n",
            "Parça 1 (satır 0):\n",
            " [[0 1 2 3]]\n",
            "Parça 2 (satır 1, 2):\n",
            " [[ 4  5  6  7]\n",
            " [ 8  9 10 11]]\n",
            "Parça 3 (satır 3):\n",
            " [[12 13 14 15]]\n",
            "\n",
            "np.vsplit(sections=2):\n",
            "Parça 1:\n",
            " [[0 1 2 3]\n",
            " [4 5 6 7]]\n",
            "Parça 2:\n",
            " [[ 8  9 10 11]\n",
            " [12 13 14 15]]\n",
            "\n",
            "np.hsplit(indices=[1, 3]):\n",
            "Parça 1 (sütun 0):\n",
            " [[ 0]\n",
            " [ 4]\n",
            " [ 8]\n",
            " [12]]\n",
            "Parça 2 (sütun 1, 2):\n",
            " [[ 1  2]\n",
            " [ 5  6]\n",
            " [ 9 10]\n",
            " [13 14]]\n",
            "Parça 3 (sütun 3):\n",
            " [[ 3]\n",
            " [ 7]\n",
            " [11]\n",
            " [15]]\n"
          ]
        }
      ],
      "source": [
        "arr = np.arange(16).reshape((4, 4))\n",
        "print(\"Dizi arr:\\n\", arr)\n",
        "\n",
        "# split (eşit parçalara)\n",
        "arr_split_axis0 = np.split(arr, 2, axis=0) # Dikey olarak 2 eşit parçaya böl\n",
        "print(\"\\nnp.split(axis=0, sections=2):\")\n",
        "print(\"Parça 1:\\n\", arr_split_axis0[0])\n",
        "print(\"Parça 2:\\n\", arr_split_axis0[1])\n",
        "\n",
        "arr_split_axis1 = np.split(arr, 2, axis=1) # Yatay olarak 2 eşit parçaya böl\n",
        "print(\"\\nnp.split(axis=1, sections=2):\")\n",
        "print(\"Parça 1:\\n\", arr_split_axis1[0])\n",
        "print(\"Parça 2:\\n\", arr_split_axis1[1])\n",
        "\n",
        "# split (indekslere göre)\n",
        "# 1. indeksten önce ve 3. indeksten önce dikey böl\n",
        "arr_split_indices = np.split(arr, [1, 3], axis=0)\n",
        "print(\"\\nnp.split(axis=0, indices=[1, 3]):\")\n",
        "print(\"Parça 1 (satır 0):\\n\", arr_split_indices[0])\n",
        "print(\"Parça 2 (satır 1, 2):\\n\", arr_split_indices[1])\n",
        "print(\"Parça 3 (satır 3):\\n\", arr_split_indices[2])\n",
        "\n",
        "# vsplit ve hsplit\n",
        "arr_vsplit = np.vsplit(arr, 2) # np.split(arr, 2, axis=0) ile aynı\n",
        "print(\"\\nnp.vsplit(sections=2):\")\n",
        "print(\"Parça 1:\\n\", arr_vsplit[0])\n",
        "print(\"Parça 2:\\n\", arr_vsplit[1])\n",
        "\n",
        "arr_hsplit = np.hsplit(arr, [1, 3]) # np.split(arr, [1, 3], axis=1) ile aynı\n",
        "print(\"\\nnp.hsplit(indices=[1, 3]):\")\n",
        "print(\"Parça 1 (sütun 0):\\n\", arr_hsplit[0])\n",
        "print(\"Parça 2 (sütun 1, 2):\\n\", arr_hsplit[1])\n",
        "print(\"Parça 3 (sütun 3):\\n\", arr_hsplit[2])"
      ]
    },
    {
      "cell_type": "markdown",
      "metadata": {
        "id": "ftxLSx1aJsRd"
      },
      "source": [
        "## 13. Küme İşlemleri (Set Operations)\n",
        "\n",
        "- Genellikle tek boyutlu diziler üzerinde çalışır ve matematiksel küme işlemlerini gerçekleştirir.\n",
        "- **`np.unique(arr)`**: Dizideki benzersiz elemanları sıralı olarak döndürür.\n",
        "  - `return_counts=True`: Her elemanın kaç kez geçtiğini de döndürür.\n",
        "- **`np.intersect1d(arr1, arr2)`**: İki dizinin kesişimini (ortak elemanlar).\n",
        "- **`np.union1d(arr1, arr2)`**: İki dizinin birleşimini (tüm benzersiz elemanlar).\n",
        "- **`np.in1d(arr1, arr2)`**: `arr1`'in her elemanının `arr2`'de olup olmadığını kontrol eden boolean dizi.\n",
        "- **`np.setdiff1d(arr1, arr2)`**: `arr1`'de olup `arr2`'de *olmayan* elemanlar (fark).\n",
        "- **`np.setxor1d(arr1, arr2)`**: Sadece bir dizide bulunan (her ikisinde birden olmayan) elemanlar (simetrik fark)."
      ]
    },
    {
      "cell_type": "code",
      "execution_count": null,
      "metadata": {
        "colab": {
          "base_uri": "https://localhost:8080/"
        },
        "id": "IuxOoJteJsRd",
        "outputId": "ee96834e-bc1d-4b90-c6da-cfd21007b65c"
      },
      "outputs": [
        {
          "output_type": "stream",
          "name": "stdout",
          "text": [
            "arr1: [1 2 3 4 5 5 3]\n",
            "arr2: [3 4 5 6 7]\n",
            "\n",
            "np.unique(arr1): [1 2 3 4 5]\n",
            "Tekrar Sayıları: [1 1 2 1 2]\n",
            "\n",
            "Kesişim (np.intersect1d): [3 4 5]\n",
            "\n",
            "Birleşim (np.union1d): [1 2 3 4 5 6 7]\n",
            "\n",
            "arr1 elemanları arr2'de var mı? (np.in1d): [False False  True  True  True  True  True]\n",
            "\n",
            "Fark (np.setdiff1d(arr1, arr2)): [1 2]\n",
            "Fark (np.setdiff1d(arr2, arr1)): [6 7]\n",
            "\n",
            "Simetrik Fark (np.setxor1d): [1 2 6 7]\n"
          ]
        },
        {
          "output_type": "stream",
          "name": "stderr",
          "text": [
            "<ipython-input-37-87f8e85b86ff>:20: DeprecationWarning: `in1d` is deprecated. Use `np.isin` instead.\n",
            "  is_in = np.in1d(arr1, arr2)\n"
          ]
        }
      ],
      "source": [
        "arr1 = np.array([1, 2, 3, 4, 5, 5, 3])\n",
        "arr2 = np.array([3, 4, 5, 6, 7])\n",
        "print(\"arr1:\", arr1)\n",
        "print(\"arr2:\", arr2)\n",
        "\n",
        "# unique\n",
        "unique_arr1, counts = np.unique(arr1, return_counts=True)\n",
        "print(\"\\nnp.unique(arr1):\", unique_arr1)\n",
        "print(\"Tekrar Sayıları:\", counts)\n",
        "\n",
        "# intersect1d\n",
        "intersection = np.intersect1d(arr1, arr2)\n",
        "print(\"\\nKesişim (np.intersect1d):\", intersection)\n",
        "\n",
        "# union1d\n",
        "union = np.union1d(arr1, arr2)\n",
        "print(\"\\nBirleşim (np.union1d):\", union)\n",
        "\n",
        "# in1d\n",
        "is_in = np.in1d(arr1, arr2)\n",
        "print(\"\\narr1 elemanları arr2'de var mı? (np.in1d):\", is_in)\n",
        "\n",
        "# setdiff1d\n",
        "diff1 = np.setdiff1d(arr1, arr2) # arr1'de olup arr2'de olmayanlar\n",
        "print(\"\\nFark (np.setdiff1d(arr1, arr2)):\", diff1)\n",
        "diff2 = np.setdiff1d(arr2, arr1) # arr2'de olup arr1'de olmayanlar\n",
        "print(\"Fark (np.setdiff1d(arr2, arr1)):\", diff2)\n",
        "\n",
        "# setxor1d\n",
        "xor = np.setxor1d(arr1, arr2) # Sadece birinde olanlar\n",
        "print(\"\\nSimetrik Fark (np.setxor1d):\", xor)"
      ]
    },
    {
      "cell_type": "markdown",
      "metadata": {
        "id": "xh17jL03JsRd"
      },
      "source": [
        "## 14. Lineer Cebir (`np.linalg`)\n",
        "\n",
        "- NumPy'ın lineer cebir işlemleri için alt modülüdür.\n",
        "- **Matris Çarpımı**:\n",
        "  - `np.dot(a, b)` veya `a.dot(b)` veya `a @ b`.\n",
        "  - Dikkat: `a * b` eleman bazında çarpımdır.\n",
        "- **Determinant**: `np.linalg.det(a)`.\n",
        "- **İz (Trace)**: `np.trace(a)` (Köşegen toplamı - `linalg` içinde değil!).\n",
        "- **Ters Matris (Inverse)**: `np.linalg.inv(a)` (Sadece kare ve tekil olmayan matrisler için).\n",
        "- **Sözde Ters Matris (Pseudo-inverse)**: `np.linalg.pinv(a)` (Kare olmayan veya tekil matrisler için).\n",
        "- **Lineer Denklem Sistemi Çözümü ($Ax = b$)**:\n",
        "  - `np.linalg.solve(A, b)`: Tam çözüm (A kare ve tersi alınabilir olmalı).\n",
        "  - `np.linalg.lstsq(A, b, rcond=None)`: En küçük kareler çözümü.\n",
        "- **Özdeğerler ve Özvektörler**:\n",
        "  - `np.linalg.eigvals(a)`: Sadece özdeğerler.\n",
        "  - `w, v = np.linalg.eig(a)`: `w` özdeğerleri, `v` özvektörleri (sütunlarda).\n",
        "- **Tekil Değer Ayrıştırması (SVD)**: `u, s, v = np.linalg.svd(a)`.\n",
        "- **QR Ayrıştırması**: `q, r = np.linalg.qr(a)`."
      ]
    },
    {
      "cell_type": "code",
      "execution_count": null,
      "metadata": {
        "colab": {
          "base_uri": "https://localhost:8080/"
        },
        "id": "DI9_pTCDJsRe",
        "outputId": "8a120adf-3683-4909-c703-54160a1a5673"
      },
      "outputs": [
        {
          "output_type": "stream",
          "name": "stdout",
          "text": [
            "Matris A:\n",
            " [[1 2]\n",
            " [3 4]]\n",
            "Matris B:\n",
            " [[5 6]\n",
            " [7 8]]\n",
            "Vektör b: [1 2]\n",
            "\n",
            "Matris Çarpımı (A @ B):\n",
            " [[19 22]\n",
            " [43 50]]\n",
            "\n",
            "Determinant (det(A)): -2.0000000000000004\n",
            "\n",
            "İz (trace(A)): 5\n",
            "\n",
            "Ters Matris (inv(A)):\n",
            " [[-2.   1. ]\n",
            " [ 1.5 -0.5]]\n",
            "\n",
            "Doğrulama (A @ inv(A)):\n",
            " [[1. 0.]\n",
            " [0. 1.]]\n",
            "\n",
            "Denklem Çözümü (solve(A, b_vec)): [0.  0.5]\n",
            "\n",
            "Doğrulama (A @ x_sol): [1. 2.]\n",
            "\n",
            "Özdeğerler (eigvals): [-0.37228132  5.37228132]\n",
            "Özvektörler (eigvecs):\n",
            " [[-0.82456484 -0.41597356]\n",
            " [ 0.56576746 -0.90937671]]\n",
            "\n",
            "SVD U:\n",
            " [[-0.40455358 -0.9145143 ]\n",
            " [-0.9145143   0.40455358]]\n",
            "SVD s (tekil değerler): [5.4649857  0.36596619]\n",
            "SVD V^T:\n",
            " [[-0.57604844 -0.81741556]\n",
            " [ 0.81741556 -0.57604844]]\n"
          ]
        }
      ],
      "source": [
        "# Lineer Cebir Örnekleri\n",
        "A = np.array([[1, 2], [3, 4]])\n",
        "B = np.array([[5, 6], [7, 8]])\n",
        "b_vec = np.array([1, 2])\n",
        "\n",
        "print(\"Matris A:\\n\", A)\n",
        "print(\"Matris B:\\n\", B)\n",
        "print(\"Vektör b:\", b_vec)\n",
        "\n",
        "# Matris Çarpımı\n",
        "mat_mul = A @ B\n",
        "print(\"\\nMatris Çarpımı (A @ B):\\n\", mat_mul)\n",
        "\n",
        "# Determinant\n",
        "det_A = np.linalg.det(A)\n",
        "print(\"\\nDeterminant (det(A)):\", det_A)\n",
        "\n",
        "# İz (Trace)\n",
        "trace_A = np.trace(A)\n",
        "print(\"\\nİz (trace(A)):\", trace_A)\n",
        "\n",
        "# Ters Matris\n",
        "try:\n",
        "    inv_A = np.linalg.inv(A)\n",
        "    print(\"\\nTers Matris (inv(A)):\\n\", inv_A)\n",
        "    # Doğrulama: A @ inv(A) birim matris olmalı (yaklaşık olarak)\n",
        "    print(\"\\nDoğrulama (A @ inv(A)):\\n\", np.round(A @ inv_A))\n",
        "except np.linalg.LinAlgError:\n",
        "    print(\"\\nMatrisin tersi alınamıyor (tekil matris).\" )\n",
        "\n",
        "# Lineer Denklem Çözümü (Ax = b_vec)\n",
        "try:\n",
        "    x_sol = np.linalg.solve(A, b_vec)\n",
        "    print(\"\\nDenklem Çözümü (solve(A, b_vec)):\", x_sol)\n",
        "    # Doğrulama: A @ x_sol, b_vec'e eşit olmalı\n",
        "    print(\"\\nDoğrulama (A @ x_sol):\", A @ x_sol)\n",
        "except np.linalg.LinAlgError:\n",
        "        print(\"\\nDenklem sistemi çözülemiyor.\")\n",
        "\n",
        "# Özdeğerler ve Özvektörler\n",
        "eigenvalues, eigenvectors = np.linalg.eig(A)\n",
        "print(\"\\nÖzdeğerler (eigvals):\", eigenvalues)\n",
        "print(\"Özvektörler (eigvecs):\\n\", eigenvectors)\n",
        "\n",
        "# SVD\n",
        "U, s, V_T = np.linalg.svd(A)\n",
        "print(\"\\nSVD U:\\n\", U)\n",
        "print(\"SVD s (tekil değerler):\", s)\n",
        "print(\"SVD V^T:\\n\", V_T)"
      ]
    },
    {
      "cell_type": "markdown",
      "metadata": {
        "id": "TLVX5XPIJsRe"
      },
      "source": [
        "# Çalışma Sonu\n"
      ]
    }
  ],
  "metadata": {
    "kernelspec": {
      "display_name": "Python 3 (ipykernel)",
      "language": "python",
      "name": "python3"
    },
    "language_info": {
      "codemirror_mode": {
        "name": "ipython",
        "version": 3
      },
      "file_extension": ".py",
      "mimetype": "text/x-python",
      "name": "python",
      "nbconvert_exporter": "python",
      "pygments_lexer": "ipython3",
      "version": "3.12.4"
    },
    "colab": {
      "provenance": []
    }
  },
  "nbformat": 4,
  "nbformat_minor": 0
}